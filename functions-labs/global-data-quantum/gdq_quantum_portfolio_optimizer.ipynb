{
 "cells": [
  {
   "cell_type": "markdown",
   "metadata": {},
   "source": [
    "# Optimize a portfolio with the Quantum Portfolio Optimizer Qiskit function"
   ]
  },
  {
   "cell_type": "markdown",
   "metadata": {},
   "source": [
    "This exercise demonstrates how to use Qiskit’s quantum portfolio optimizer function to solve financial portfolio optimization problems. We show how to formulate and solve dynamic portfolio optimization problems in a simple and accessible way, making it suitable for execution on a quantum computer or simulator with no quantum computing expertise required. The objective is to illustrate how quantum algorithms apply to real-world financial problems using intuitive tools and workflows provided by Qiskit.\n",
    "\n",
    "In this exercise, we also show how to fine-tune the quantum portfolio optimizer settings. Although this fine-tuning is not necessary for basic usage, these advanced options provide insights into how experienced users can leverage quantum computing to improve efficiency and accuracy. For further details, consult the [documentation](https://docs.quantum.ibm.com/guides/global-data-quantum-optimizer) of the global data quantum portfolio optimizer.\n"
   ]
  },
  {
   "cell_type": "markdown",
   "metadata": {},
   "source": [
    "## Table of Contents\n",
    "\n",
    "- [Function Description](#function-description)\n",
    "- [DPO Job Execution Example](#dpo-job-execution-example)\n",
    "- [Exercise 1: DPO Job Execution](#exercise-1-dpo-job-execution)\n",
    "- [Exercise 2: Resuming Job Execution](#exercise-2-resuming-job-execution)\n"
   ]
  },
  {
   "cell_type": "markdown",
   "metadata": {},
   "source": [
    "## Setup"
   ]
  },
  {
   "cell_type": "code",
   "execution_count": 1,
   "metadata": {},
   "outputs": [
    {
     "name": "stdout",
     "output_type": "stream",
     "text": [
      "Collecting qc-grader@ git+https://github.com/qiskit-community/Quantum-Challenge-Grader.git (from qc-grader[jupyter,qiskit]@ git+https://github.com/qiskit-community/Quantum-Challenge-Grader.git)\n",
      "  Cloning https://github.com/qiskit-community/Quantum-Challenge-Grader.git to /tmp/pip-install-mchw2j6m/qc-grader_5a5d2c247bf24668afcecf19924c3994\n",
      "  Running command git clone --filter=blob:none --quiet https://github.com/qiskit-community/Quantum-Challenge-Grader.git /tmp/pip-install-mchw2j6m/qc-grader_5a5d2c247bf24668afcecf19924c3994\n",
      "  Resolved https://github.com/qiskit-community/Quantum-Challenge-Grader.git to commit 1d7a6915623b0cfeac4c114391c279e9d98eb7f9\n",
      "  Installing build dependencies ... \u001b[?25ldone\n",
      "\u001b[?25h  Getting requirements to build wheel ... \u001b[?25ldone\n",
      "\u001b[?25h  Preparing metadata (pyproject.toml) ... \u001b[?25ldone\n",
      "\u001b[?25hRequirement already satisfied: typeguard in /home/ubuntu/qgss-2025/.venv/lib/python3.12/site-packages (from qc-grader@ git+https://github.com/qiskit-community/Quantum-Challenge-Grader.git->qc-grader[jupyter,qiskit]@ git+https://github.com/qiskit-community/Quantum-Challenge-Grader.git) (4.4.4)\n",
      "Requirement already satisfied: jsonpickle==3.0.3 in /home/ubuntu/qgss-2025/.venv/lib/python3.12/site-packages (from qc-grader@ git+https://github.com/qiskit-community/Quantum-Challenge-Grader.git->qc-grader[jupyter,qiskit]@ git+https://github.com/qiskit-community/Quantum-Challenge-Grader.git) (3.0.3)\n",
      "Requirement already satisfied: requests==2.32.3 in /home/ubuntu/qgss-2025/.venv/lib/python3.12/site-packages (from qc-grader@ git+https://github.com/qiskit-community/Quantum-Challenge-Grader.git->qc-grader[jupyter,qiskit]@ git+https://github.com/qiskit-community/Quantum-Challenge-Grader.git) (2.32.3)\n",
      "Requirement already satisfied: ipycytoscape in /home/ubuntu/qgss-2025/.venv/lib/python3.12/site-packages (from qc-grader@ git+https://github.com/qiskit-community/Quantum-Challenge-Grader.git->qc-grader[jupyter,qiskit]@ git+https://github.com/qiskit-community/Quantum-Challenge-Grader.git) (1.3.3)\n",
      "Requirement already satisfied: plotly in /home/ubuntu/qgss-2025/.venv/lib/python3.12/site-packages (from qc-grader@ git+https://github.com/qiskit-community/Quantum-Challenge-Grader.git->qc-grader[jupyter,qiskit]@ git+https://github.com/qiskit-community/Quantum-Challenge-Grader.git) (6.2.0)\n",
      "Requirement already satisfied: networkx==3.2.1 in /home/ubuntu/qgss-2025/.venv/lib/python3.12/site-packages (from qc-grader@ git+https://github.com/qiskit-community/Quantum-Challenge-Grader.git->qc-grader[jupyter,qiskit]@ git+https://github.com/qiskit-community/Quantum-Challenge-Grader.git) (3.2.1)\n",
      "Requirement already satisfied: graphviz in /home/ubuntu/qgss-2025/.venv/lib/python3.12/site-packages (from qc-grader@ git+https://github.com/qiskit-community/Quantum-Challenge-Grader.git->qc-grader[jupyter,qiskit]@ git+https://github.com/qiskit-community/Quantum-Challenge-Grader.git) (0.21)\n",
      "Requirement already satisfied: ibm-platform-services==0.66.1 in /home/ubuntu/qgss-2025/.venv/lib/python3.12/site-packages (from qc-grader@ git+https://github.com/qiskit-community/Quantum-Challenge-Grader.git->qc-grader[jupyter,qiskit]@ git+https://github.com/qiskit-community/Quantum-Challenge-Grader.git) (0.66.1)\n",
      "Requirement already satisfied: qiskit~=2.1.0 in /home/ubuntu/qgss-2025/.venv/lib/python3.12/site-packages (from qiskit[visualization]~=2.1.0; extra == \"qiskit\"->qc-grader@ git+https://github.com/qiskit-community/Quantum-Challenge-Grader.git->qc-grader[jupyter,qiskit]@ git+https://github.com/qiskit-community/Quantum-Challenge-Grader.git) (2.1.1)\n",
      "Requirement already satisfied: qiskit-ibm-runtime in /home/ubuntu/qgss-2025/.venv/lib/python3.12/site-packages (from qc-grader@ git+https://github.com/qiskit-community/Quantum-Challenge-Grader.git->qc-grader[jupyter,qiskit]@ git+https://github.com/qiskit-community/Quantum-Challenge-Grader.git) (0.40.1)\n",
      "Requirement already satisfied: qiskit-aer in /home/ubuntu/qgss-2025/.venv/lib/python3.12/site-packages (from qc-grader@ git+https://github.com/qiskit-community/Quantum-Challenge-Grader.git->qc-grader[jupyter,qiskit]@ git+https://github.com/qiskit-community/Quantum-Challenge-Grader.git) (0.17.1)\n",
      "Requirement already satisfied: qiskit_serverless in /home/ubuntu/qgss-2025/.venv/lib/python3.12/site-packages (from qc-grader@ git+https://github.com/qiskit-community/Quantum-Challenge-Grader.git->qc-grader[jupyter,qiskit]@ git+https://github.com/qiskit-community/Quantum-Challenge-Grader.git) (0.25.1)\n",
      "Requirement already satisfied: jupyterlab in /home/ubuntu/qgss-2025/.venv/lib/python3.12/site-packages (from qc-grader@ git+https://github.com/qiskit-community/Quantum-Challenge-Grader.git->qc-grader[jupyter,qiskit]@ git+https://github.com/qiskit-community/Quantum-Challenge-Grader.git) (4.4.4)\n",
      "Requirement already satisfied: ipykernel in /home/ubuntu/qgss-2025/.venv/lib/python3.12/site-packages (from qc-grader@ git+https://github.com/qiskit-community/Quantum-Challenge-Grader.git->qc-grader[jupyter,qiskit]@ git+https://github.com/qiskit-community/Quantum-Challenge-Grader.git) (6.29.5)\n",
      "Requirement already satisfied: ibm_cloud_sdk_core<4.0.0,>=3.24.1 in /home/ubuntu/qgss-2025/.venv/lib/python3.12/site-packages (from ibm-platform-services==0.66.1->qc-grader@ git+https://github.com/qiskit-community/Quantum-Challenge-Grader.git->qc-grader[jupyter,qiskit]@ git+https://github.com/qiskit-community/Quantum-Challenge-Grader.git) (3.24.1)\n",
      "Requirement already satisfied: charset-normalizer<4,>=2 in /home/ubuntu/qgss-2025/.venv/lib/python3.12/site-packages (from requests==2.32.3->qc-grader@ git+https://github.com/qiskit-community/Quantum-Challenge-Grader.git->qc-grader[jupyter,qiskit]@ git+https://github.com/qiskit-community/Quantum-Challenge-Grader.git) (3.4.2)\n",
      "Requirement already satisfied: idna<4,>=2.5 in /home/ubuntu/qgss-2025/.venv/lib/python3.12/site-packages (from requests==2.32.3->qc-grader@ git+https://github.com/qiskit-community/Quantum-Challenge-Grader.git->qc-grader[jupyter,qiskit]@ git+https://github.com/qiskit-community/Quantum-Challenge-Grader.git) (3.10)\n",
      "Requirement already satisfied: urllib3<3,>=1.21.1 in /home/ubuntu/qgss-2025/.venv/lib/python3.12/site-packages (from requests==2.32.3->qc-grader@ git+https://github.com/qiskit-community/Quantum-Challenge-Grader.git->qc-grader[jupyter,qiskit]@ git+https://github.com/qiskit-community/Quantum-Challenge-Grader.git) (2.5.0)\n",
      "Requirement already satisfied: certifi>=2017.4.17 in /home/ubuntu/qgss-2025/.venv/lib/python3.12/site-packages (from requests==2.32.3->qc-grader@ git+https://github.com/qiskit-community/Quantum-Challenge-Grader.git->qc-grader[jupyter,qiskit]@ git+https://github.com/qiskit-community/Quantum-Challenge-Grader.git) (2024.7.4)\n",
      "Requirement already satisfied: python_dateutil<3.0.0,>=2.8.2 in /home/ubuntu/qgss-2025/.venv/lib/python3.12/site-packages (from ibm_cloud_sdk_core<4.0.0,>=3.24.1->ibm-platform-services==0.66.1->qc-grader@ git+https://github.com/qiskit-community/Quantum-Challenge-Grader.git->qc-grader[jupyter,qiskit]@ git+https://github.com/qiskit-community/Quantum-Challenge-Grader.git) (2.9.0.post0)\n",
      "Requirement already satisfied: PyJWT<3.0.0,>=2.8.0 in /home/ubuntu/qgss-2025/.venv/lib/python3.12/site-packages (from ibm_cloud_sdk_core<4.0.0,>=3.24.1->ibm-platform-services==0.66.1->qc-grader@ git+https://github.com/qiskit-community/Quantum-Challenge-Grader.git->qc-grader[jupyter,qiskit]@ git+https://github.com/qiskit-community/Quantum-Challenge-Grader.git) (2.10.1)\n",
      "Requirement already satisfied: six>=1.5 in /home/ubuntu/qgss-2025/.venv/lib/python3.12/site-packages (from python_dateutil<3.0.0,>=2.8.2->ibm_cloud_sdk_core<4.0.0,>=3.24.1->ibm-platform-services==0.66.1->qc-grader@ git+https://github.com/qiskit-community/Quantum-Challenge-Grader.git->qc-grader[jupyter,qiskit]@ git+https://github.com/qiskit-community/Quantum-Challenge-Grader.git) (1.17.0)\n",
      "Requirement already satisfied: rustworkx>=0.15.0 in /home/ubuntu/qgss-2025/.venv/lib/python3.12/site-packages (from qiskit~=2.1.0->qiskit[visualization]~=2.1.0; extra == \"qiskit\"->qc-grader@ git+https://github.com/qiskit-community/Quantum-Challenge-Grader.git->qc-grader[jupyter,qiskit]@ git+https://github.com/qiskit-community/Quantum-Challenge-Grader.git) (0.16.0)\n",
      "Requirement already satisfied: numpy<3,>=1.17 in /home/ubuntu/qgss-2025/.venv/lib/python3.12/site-packages (from qiskit~=2.1.0->qiskit[visualization]~=2.1.0; extra == \"qiskit\"->qc-grader@ git+https://github.com/qiskit-community/Quantum-Challenge-Grader.git->qc-grader[jupyter,qiskit]@ git+https://github.com/qiskit-community/Quantum-Challenge-Grader.git) (2.3.1)\n",
      "Requirement already satisfied: scipy>=1.5 in /home/ubuntu/qgss-2025/.venv/lib/python3.12/site-packages (from qiskit~=2.1.0->qiskit[visualization]~=2.1.0; extra == \"qiskit\"->qc-grader@ git+https://github.com/qiskit-community/Quantum-Challenge-Grader.git->qc-grader[jupyter,qiskit]@ git+https://github.com/qiskit-community/Quantum-Challenge-Grader.git) (1.16.0)\n",
      "Requirement already satisfied: dill>=0.3 in /home/ubuntu/qgss-2025/.venv/lib/python3.12/site-packages (from qiskit~=2.1.0->qiskit[visualization]~=2.1.0; extra == \"qiskit\"->qc-grader@ git+https://github.com/qiskit-community/Quantum-Challenge-Grader.git->qc-grader[jupyter,qiskit]@ git+https://github.com/qiskit-community/Quantum-Challenge-Grader.git) (0.4.0)\n",
      "Requirement already satisfied: stevedore>=3.0.0 in /home/ubuntu/qgss-2025/.venv/lib/python3.12/site-packages (from qiskit~=2.1.0->qiskit[visualization]~=2.1.0; extra == \"qiskit\"->qc-grader@ git+https://github.com/qiskit-community/Quantum-Challenge-Grader.git->qc-grader[jupyter,qiskit]@ git+https://github.com/qiskit-community/Quantum-Challenge-Grader.git) (5.4.1)\n",
      "Requirement already satisfied: typing-extensions in /home/ubuntu/qgss-2025/.venv/lib/python3.12/site-packages (from qiskit~=2.1.0->qiskit[visualization]~=2.1.0; extra == \"qiskit\"->qc-grader@ git+https://github.com/qiskit-community/Quantum-Challenge-Grader.git->qc-grader[jupyter,qiskit]@ git+https://github.com/qiskit-community/Quantum-Challenge-Grader.git) (4.14.1)\n",
      "Requirement already satisfied: matplotlib>=3.3 in /home/ubuntu/qgss-2025/.venv/lib/python3.12/site-packages (from qiskit[visualization]~=2.1.0; extra == \"qiskit\"->qc-grader@ git+https://github.com/qiskit-community/Quantum-Challenge-Grader.git->qc-grader[jupyter,qiskit]@ git+https://github.com/qiskit-community/Quantum-Challenge-Grader.git) (3.10.3)\n",
      "Requirement already satisfied: pydot in /home/ubuntu/qgss-2025/.venv/lib/python3.12/site-packages (from qiskit[visualization]~=2.1.0; extra == \"qiskit\"->qc-grader@ git+https://github.com/qiskit-community/Quantum-Challenge-Grader.git->qc-grader[jupyter,qiskit]@ git+https://github.com/qiskit-community/Quantum-Challenge-Grader.git) (4.0.1)\n",
      "Requirement already satisfied: Pillow>=4.2.1 in /home/ubuntu/qgss-2025/.venv/lib/python3.12/site-packages (from qiskit[visualization]~=2.1.0; extra == \"qiskit\"->qc-grader@ git+https://github.com/qiskit-community/Quantum-Challenge-Grader.git->qc-grader[jupyter,qiskit]@ git+https://github.com/qiskit-community/Quantum-Challenge-Grader.git) (11.3.0)\n",
      "Requirement already satisfied: pylatexenc>=1.4 in /home/ubuntu/qgss-2025/.venv/lib/python3.12/site-packages (from qiskit[visualization]~=2.1.0; extra == \"qiskit\"->qc-grader@ git+https://github.com/qiskit-community/Quantum-Challenge-Grader.git->qc-grader[jupyter,qiskit]@ git+https://github.com/qiskit-community/Quantum-Challenge-Grader.git) (2.10)\n",
      "Requirement already satisfied: seaborn>=0.9.0 in /home/ubuntu/qgss-2025/.venv/lib/python3.12/site-packages (from qiskit[visualization]~=2.1.0; extra == \"qiskit\"->qc-grader@ git+https://github.com/qiskit-community/Quantum-Challenge-Grader.git->qc-grader[jupyter,qiskit]@ git+https://github.com/qiskit-community/Quantum-Challenge-Grader.git) (0.13.2)\n",
      "Requirement already satisfied: sympy>=1.3 in /home/ubuntu/qgss-2025/.venv/lib/python3.12/site-packages (from qiskit[visualization]~=2.1.0; extra == \"qiskit\"->qc-grader@ git+https://github.com/qiskit-community/Quantum-Challenge-Grader.git->qc-grader[jupyter,qiskit]@ git+https://github.com/qiskit-community/Quantum-Challenge-Grader.git) (1.14.0)\n",
      "Requirement already satisfied: contourpy>=1.0.1 in /home/ubuntu/qgss-2025/.venv/lib/python3.12/site-packages (from matplotlib>=3.3->qiskit[visualization]~=2.1.0; extra == \"qiskit\"->qc-grader@ git+https://github.com/qiskit-community/Quantum-Challenge-Grader.git->qc-grader[jupyter,qiskit]@ git+https://github.com/qiskit-community/Quantum-Challenge-Grader.git) (1.3.2)\n",
      "Requirement already satisfied: cycler>=0.10 in /home/ubuntu/qgss-2025/.venv/lib/python3.12/site-packages (from matplotlib>=3.3->qiskit[visualization]~=2.1.0; extra == \"qiskit\"->qc-grader@ git+https://github.com/qiskit-community/Quantum-Challenge-Grader.git->qc-grader[jupyter,qiskit]@ git+https://github.com/qiskit-community/Quantum-Challenge-Grader.git) (0.12.1)\n",
      "Requirement already satisfied: fonttools>=4.22.0 in /home/ubuntu/qgss-2025/.venv/lib/python3.12/site-packages (from matplotlib>=3.3->qiskit[visualization]~=2.1.0; extra == \"qiskit\"->qc-grader@ git+https://github.com/qiskit-community/Quantum-Challenge-Grader.git->qc-grader[jupyter,qiskit]@ git+https://github.com/qiskit-community/Quantum-Challenge-Grader.git) (4.58.5)\n",
      "Requirement already satisfied: kiwisolver>=1.3.1 in /home/ubuntu/qgss-2025/.venv/lib/python3.12/site-packages (from matplotlib>=3.3->qiskit[visualization]~=2.1.0; extra == \"qiskit\"->qc-grader@ git+https://github.com/qiskit-community/Quantum-Challenge-Grader.git->qc-grader[jupyter,qiskit]@ git+https://github.com/qiskit-community/Quantum-Challenge-Grader.git) (1.4.8)\n",
      "Requirement already satisfied: packaging>=20.0 in /home/ubuntu/qgss-2025/.venv/lib/python3.12/site-packages (from matplotlib>=3.3->qiskit[visualization]~=2.1.0; extra == \"qiskit\"->qc-grader@ git+https://github.com/qiskit-community/Quantum-Challenge-Grader.git->qc-grader[jupyter,qiskit]@ git+https://github.com/qiskit-community/Quantum-Challenge-Grader.git) (25.0)\n",
      "Requirement already satisfied: pyparsing>=2.3.1 in /home/ubuntu/qgss-2025/.venv/lib/python3.12/site-packages (from matplotlib>=3.3->qiskit[visualization]~=2.1.0; extra == \"qiskit\"->qc-grader@ git+https://github.com/qiskit-community/Quantum-Challenge-Grader.git->qc-grader[jupyter,qiskit]@ git+https://github.com/qiskit-community/Quantum-Challenge-Grader.git) (3.2.3)\n",
      "Requirement already satisfied: pandas>=1.2 in /home/ubuntu/qgss-2025/.venv/lib/python3.12/site-packages (from seaborn>=0.9.0->qiskit[visualization]~=2.1.0; extra == \"qiskit\"->qc-grader@ git+https://github.com/qiskit-community/Quantum-Challenge-Grader.git->qc-grader[jupyter,qiskit]@ git+https://github.com/qiskit-community/Quantum-Challenge-Grader.git) (2.3.1)\n",
      "Requirement already satisfied: pytz>=2020.1 in /home/ubuntu/qgss-2025/.venv/lib/python3.12/site-packages (from pandas>=1.2->seaborn>=0.9.0->qiskit[visualization]~=2.1.0; extra == \"qiskit\"->qc-grader@ git+https://github.com/qiskit-community/Quantum-Challenge-Grader.git->qc-grader[jupyter,qiskit]@ git+https://github.com/qiskit-community/Quantum-Challenge-Grader.git) (2025.2)\n",
      "Requirement already satisfied: tzdata>=2022.7 in /home/ubuntu/qgss-2025/.venv/lib/python3.12/site-packages (from pandas>=1.2->seaborn>=0.9.0->qiskit[visualization]~=2.1.0; extra == \"qiskit\"->qc-grader@ git+https://github.com/qiskit-community/Quantum-Challenge-Grader.git->qc-grader[jupyter,qiskit]@ git+https://github.com/qiskit-community/Quantum-Challenge-Grader.git) (2025.2)\n",
      "Requirement already satisfied: pbr>=2.0.0 in /home/ubuntu/qgss-2025/.venv/lib/python3.12/site-packages (from stevedore>=3.0.0->qiskit~=2.1.0->qiskit[visualization]~=2.1.0; extra == \"qiskit\"->qc-grader@ git+https://github.com/qiskit-community/Quantum-Challenge-Grader.git->qc-grader[jupyter,qiskit]@ git+https://github.com/qiskit-community/Quantum-Challenge-Grader.git) (6.1.1)\n",
      "Requirement already satisfied: setuptools in /home/ubuntu/qgss-2025/.venv/lib/python3.12/site-packages (from pbr>=2.0.0->stevedore>=3.0.0->qiskit~=2.1.0->qiskit[visualization]~=2.1.0; extra == \"qiskit\"->qc-grader@ git+https://github.com/qiskit-community/Quantum-Challenge-Grader.git->qc-grader[jupyter,qiskit]@ git+https://github.com/qiskit-community/Quantum-Challenge-Grader.git) (80.9.0)\n",
      "Requirement already satisfied: mpmath<1.4,>=1.1.0 in /home/ubuntu/qgss-2025/.venv/lib/python3.12/site-packages (from sympy>=1.3->qiskit[visualization]~=2.1.0; extra == \"qiskit\"->qc-grader@ git+https://github.com/qiskit-community/Quantum-Challenge-Grader.git->qc-grader[jupyter,qiskit]@ git+https://github.com/qiskit-community/Quantum-Challenge-Grader.git) (1.3.0)\n",
      "Requirement already satisfied: ipywidgets>=7.6.0 in /home/ubuntu/qgss-2025/.venv/lib/python3.12/site-packages (from ipycytoscape->qc-grader@ git+https://github.com/qiskit-community/Quantum-Challenge-Grader.git->qc-grader[jupyter,qiskit]@ git+https://github.com/qiskit-community/Quantum-Challenge-Grader.git) (8.1.7)\n",
      "Requirement already satisfied: spectate>=1.0.0 in /home/ubuntu/qgss-2025/.venv/lib/python3.12/site-packages (from ipycytoscape->qc-grader@ git+https://github.com/qiskit-community/Quantum-Challenge-Grader.git->qc-grader[jupyter,qiskit]@ git+https://github.com/qiskit-community/Quantum-Challenge-Grader.git) (1.0.1)\n",
      "Requirement already satisfied: comm>=0.1.3 in /home/ubuntu/qgss-2025/.venv/lib/python3.12/site-packages (from ipywidgets>=7.6.0->ipycytoscape->qc-grader@ git+https://github.com/qiskit-community/Quantum-Challenge-Grader.git->qc-grader[jupyter,qiskit]@ git+https://github.com/qiskit-community/Quantum-Challenge-Grader.git) (0.2.2)\n",
      "Requirement already satisfied: ipython>=6.1.0 in /home/ubuntu/qgss-2025/.venv/lib/python3.12/site-packages (from ipywidgets>=7.6.0->ipycytoscape->qc-grader@ git+https://github.com/qiskit-community/Quantum-Challenge-Grader.git->qc-grader[jupyter,qiskit]@ git+https://github.com/qiskit-community/Quantum-Challenge-Grader.git) (8.37.0)\n",
      "Requirement already satisfied: traitlets>=4.3.1 in /home/ubuntu/qgss-2025/.venv/lib/python3.12/site-packages (from ipywidgets>=7.6.0->ipycytoscape->qc-grader@ git+https://github.com/qiskit-community/Quantum-Challenge-Grader.git->qc-grader[jupyter,qiskit]@ git+https://github.com/qiskit-community/Quantum-Challenge-Grader.git) (5.14.3)\n",
      "Requirement already satisfied: widgetsnbextension~=4.0.14 in /home/ubuntu/qgss-2025/.venv/lib/python3.12/site-packages (from ipywidgets>=7.6.0->ipycytoscape->qc-grader@ git+https://github.com/qiskit-community/Quantum-Challenge-Grader.git->qc-grader[jupyter,qiskit]@ git+https://github.com/qiskit-community/Quantum-Challenge-Grader.git) (4.0.14)\n",
      "Requirement already satisfied: jupyterlab_widgets~=3.0.15 in /home/ubuntu/qgss-2025/.venv/lib/python3.12/site-packages (from ipywidgets>=7.6.0->ipycytoscape->qc-grader@ git+https://github.com/qiskit-community/Quantum-Challenge-Grader.git->qc-grader[jupyter,qiskit]@ git+https://github.com/qiskit-community/Quantum-Challenge-Grader.git) (3.0.15)\n",
      "Requirement already satisfied: decorator in /home/ubuntu/qgss-2025/.venv/lib/python3.12/site-packages (from ipython>=6.1.0->ipywidgets>=7.6.0->ipycytoscape->qc-grader@ git+https://github.com/qiskit-community/Quantum-Challenge-Grader.git->qc-grader[jupyter,qiskit]@ git+https://github.com/qiskit-community/Quantum-Challenge-Grader.git) (5.2.1)\n",
      "Requirement already satisfied: jedi>=0.16 in /home/ubuntu/qgss-2025/.venv/lib/python3.12/site-packages (from ipython>=6.1.0->ipywidgets>=7.6.0->ipycytoscape->qc-grader@ git+https://github.com/qiskit-community/Quantum-Challenge-Grader.git->qc-grader[jupyter,qiskit]@ git+https://github.com/qiskit-community/Quantum-Challenge-Grader.git) (0.19.2)\n",
      "Requirement already satisfied: matplotlib-inline in /home/ubuntu/qgss-2025/.venv/lib/python3.12/site-packages (from ipython>=6.1.0->ipywidgets>=7.6.0->ipycytoscape->qc-grader@ git+https://github.com/qiskit-community/Quantum-Challenge-Grader.git->qc-grader[jupyter,qiskit]@ git+https://github.com/qiskit-community/Quantum-Challenge-Grader.git) (0.1.7)\n",
      "Requirement already satisfied: pexpect>4.3 in /home/ubuntu/qgss-2025/.venv/lib/python3.12/site-packages (from ipython>=6.1.0->ipywidgets>=7.6.0->ipycytoscape->qc-grader@ git+https://github.com/qiskit-community/Quantum-Challenge-Grader.git->qc-grader[jupyter,qiskit]@ git+https://github.com/qiskit-community/Quantum-Challenge-Grader.git) (4.9.0)\n",
      "Requirement already satisfied: prompt_toolkit<3.1.0,>=3.0.41 in /home/ubuntu/qgss-2025/.venv/lib/python3.12/site-packages (from ipython>=6.1.0->ipywidgets>=7.6.0->ipycytoscape->qc-grader@ git+https://github.com/qiskit-community/Quantum-Challenge-Grader.git->qc-grader[jupyter,qiskit]@ git+https://github.com/qiskit-community/Quantum-Challenge-Grader.git) (3.0.51)\n",
      "Requirement already satisfied: pygments>=2.4.0 in /home/ubuntu/qgss-2025/.venv/lib/python3.12/site-packages (from ipython>=6.1.0->ipywidgets>=7.6.0->ipycytoscape->qc-grader@ git+https://github.com/qiskit-community/Quantum-Challenge-Grader.git->qc-grader[jupyter,qiskit]@ git+https://github.com/qiskit-community/Quantum-Challenge-Grader.git) (2.19.2)\n",
      "Requirement already satisfied: stack_data in /home/ubuntu/qgss-2025/.venv/lib/python3.12/site-packages (from ipython>=6.1.0->ipywidgets>=7.6.0->ipycytoscape->qc-grader@ git+https://github.com/qiskit-community/Quantum-Challenge-Grader.git->qc-grader[jupyter,qiskit]@ git+https://github.com/qiskit-community/Quantum-Challenge-Grader.git) (0.6.3)\n",
      "Requirement already satisfied: wcwidth in /home/ubuntu/qgss-2025/.venv/lib/python3.12/site-packages (from prompt_toolkit<3.1.0,>=3.0.41->ipython>=6.1.0->ipywidgets>=7.6.0->ipycytoscape->qc-grader@ git+https://github.com/qiskit-community/Quantum-Challenge-Grader.git->qc-grader[jupyter,qiskit]@ git+https://github.com/qiskit-community/Quantum-Challenge-Grader.git) (0.2.13)\n",
      "Requirement already satisfied: parso<0.9.0,>=0.8.4 in /home/ubuntu/qgss-2025/.venv/lib/python3.12/site-packages (from jedi>=0.16->ipython>=6.1.0->ipywidgets>=7.6.0->ipycytoscape->qc-grader@ git+https://github.com/qiskit-community/Quantum-Challenge-Grader.git->qc-grader[jupyter,qiskit]@ git+https://github.com/qiskit-community/Quantum-Challenge-Grader.git) (0.8.4)\n",
      "Requirement already satisfied: ptyprocess>=0.5 in /home/ubuntu/qgss-2025/.venv/lib/python3.12/site-packages (from pexpect>4.3->ipython>=6.1.0->ipywidgets>=7.6.0->ipycytoscape->qc-grader@ git+https://github.com/qiskit-community/Quantum-Challenge-Grader.git->qc-grader[jupyter,qiskit]@ git+https://github.com/qiskit-community/Quantum-Challenge-Grader.git) (0.7.0)\n",
      "Requirement already satisfied: debugpy>=1.6.5 in /home/ubuntu/qgss-2025/.venv/lib/python3.12/site-packages (from ipykernel->qc-grader@ git+https://github.com/qiskit-community/Quantum-Challenge-Grader.git->qc-grader[jupyter,qiskit]@ git+https://github.com/qiskit-community/Quantum-Challenge-Grader.git) (1.8.15)\n",
      "Requirement already satisfied: jupyter-client>=6.1.12 in /home/ubuntu/qgss-2025/.venv/lib/python3.12/site-packages (from ipykernel->qc-grader@ git+https://github.com/qiskit-community/Quantum-Challenge-Grader.git->qc-grader[jupyter,qiskit]@ git+https://github.com/qiskit-community/Quantum-Challenge-Grader.git) (8.6.3)\n",
      "Requirement already satisfied: jupyter-core!=5.0.*,>=4.12 in /home/ubuntu/qgss-2025/.venv/lib/python3.12/site-packages (from ipykernel->qc-grader@ git+https://github.com/qiskit-community/Quantum-Challenge-Grader.git->qc-grader[jupyter,qiskit]@ git+https://github.com/qiskit-community/Quantum-Challenge-Grader.git) (5.8.1)\n",
      "Requirement already satisfied: nest-asyncio in /home/ubuntu/qgss-2025/.venv/lib/python3.12/site-packages (from ipykernel->qc-grader@ git+https://github.com/qiskit-community/Quantum-Challenge-Grader.git->qc-grader[jupyter,qiskit]@ git+https://github.com/qiskit-community/Quantum-Challenge-Grader.git) (1.6.0)\n",
      "Requirement already satisfied: psutil in /home/ubuntu/qgss-2025/.venv/lib/python3.12/site-packages (from ipykernel->qc-grader@ git+https://github.com/qiskit-community/Quantum-Challenge-Grader.git->qc-grader[jupyter,qiskit]@ git+https://github.com/qiskit-community/Quantum-Challenge-Grader.git) (7.0.0)\n",
      "Requirement already satisfied: pyzmq>=24 in /home/ubuntu/qgss-2025/.venv/lib/python3.12/site-packages (from ipykernel->qc-grader@ git+https://github.com/qiskit-community/Quantum-Challenge-Grader.git->qc-grader[jupyter,qiskit]@ git+https://github.com/qiskit-community/Quantum-Challenge-Grader.git) (27.0.0)\n",
      "Requirement already satisfied: tornado>=6.1 in /home/ubuntu/qgss-2025/.venv/lib/python3.12/site-packages (from ipykernel->qc-grader@ git+https://github.com/qiskit-community/Quantum-Challenge-Grader.git->qc-grader[jupyter,qiskit]@ git+https://github.com/qiskit-community/Quantum-Challenge-Grader.git) (6.5.1)\n",
      "Requirement already satisfied: platformdirs>=2.5 in /home/ubuntu/qgss-2025/.venv/lib/python3.12/site-packages (from jupyter-core!=5.0.*,>=4.12->ipykernel->qc-grader@ git+https://github.com/qiskit-community/Quantum-Challenge-Grader.git->qc-grader[jupyter,qiskit]@ git+https://github.com/qiskit-community/Quantum-Challenge-Grader.git) (4.3.8)\n",
      "Requirement already satisfied: async-lru>=1.0.0 in /home/ubuntu/qgss-2025/.venv/lib/python3.12/site-packages (from jupyterlab->qc-grader@ git+https://github.com/qiskit-community/Quantum-Challenge-Grader.git->qc-grader[jupyter,qiskit]@ git+https://github.com/qiskit-community/Quantum-Challenge-Grader.git) (2.0.5)\n",
      "Requirement already satisfied: httpx>=0.25.0 in /home/ubuntu/qgss-2025/.venv/lib/python3.12/site-packages (from jupyterlab->qc-grader@ git+https://github.com/qiskit-community/Quantum-Challenge-Grader.git->qc-grader[jupyter,qiskit]@ git+https://github.com/qiskit-community/Quantum-Challenge-Grader.git) (0.28.1)\n",
      "Requirement already satisfied: jinja2>=3.0.3 in /home/ubuntu/qgss-2025/.venv/lib/python3.12/site-packages (from jupyterlab->qc-grader@ git+https://github.com/qiskit-community/Quantum-Challenge-Grader.git->qc-grader[jupyter,qiskit]@ git+https://github.com/qiskit-community/Quantum-Challenge-Grader.git) (3.1.6)\n",
      "Requirement already satisfied: jupyter-lsp>=2.0.0 in /home/ubuntu/qgss-2025/.venv/lib/python3.12/site-packages (from jupyterlab->qc-grader@ git+https://github.com/qiskit-community/Quantum-Challenge-Grader.git->qc-grader[jupyter,qiskit]@ git+https://github.com/qiskit-community/Quantum-Challenge-Grader.git) (2.2.5)\n",
      "Requirement already satisfied: jupyter-server<3,>=2.4.0 in /home/ubuntu/qgss-2025/.venv/lib/python3.12/site-packages (from jupyterlab->qc-grader@ git+https://github.com/qiskit-community/Quantum-Challenge-Grader.git->qc-grader[jupyter,qiskit]@ git+https://github.com/qiskit-community/Quantum-Challenge-Grader.git) (2.16.0)\n",
      "Requirement already satisfied: jupyterlab-server<3,>=2.27.1 in /home/ubuntu/qgss-2025/.venv/lib/python3.12/site-packages (from jupyterlab->qc-grader@ git+https://github.com/qiskit-community/Quantum-Challenge-Grader.git->qc-grader[jupyter,qiskit]@ git+https://github.com/qiskit-community/Quantum-Challenge-Grader.git) (2.27.3)\n",
      "Requirement already satisfied: notebook-shim>=0.2 in /home/ubuntu/qgss-2025/.venv/lib/python3.12/site-packages (from jupyterlab->qc-grader@ git+https://github.com/qiskit-community/Quantum-Challenge-Grader.git->qc-grader[jupyter,qiskit]@ git+https://github.com/qiskit-community/Quantum-Challenge-Grader.git) (0.2.4)\n",
      "Requirement already satisfied: anyio>=3.1.0 in /home/ubuntu/qgss-2025/.venv/lib/python3.12/site-packages (from jupyter-server<3,>=2.4.0->jupyterlab->qc-grader@ git+https://github.com/qiskit-community/Quantum-Challenge-Grader.git->qc-grader[jupyter,qiskit]@ git+https://github.com/qiskit-community/Quantum-Challenge-Grader.git) (4.9.0)\n",
      "Requirement already satisfied: argon2-cffi>=21.1 in /home/ubuntu/qgss-2025/.venv/lib/python3.12/site-packages (from jupyter-server<3,>=2.4.0->jupyterlab->qc-grader@ git+https://github.com/qiskit-community/Quantum-Challenge-Grader.git->qc-grader[jupyter,qiskit]@ git+https://github.com/qiskit-community/Quantum-Challenge-Grader.git) (25.1.0)\n",
      "Requirement already satisfied: jupyter-events>=0.11.0 in /home/ubuntu/qgss-2025/.venv/lib/python3.12/site-packages (from jupyter-server<3,>=2.4.0->jupyterlab->qc-grader@ git+https://github.com/qiskit-community/Quantum-Challenge-Grader.git->qc-grader[jupyter,qiskit]@ git+https://github.com/qiskit-community/Quantum-Challenge-Grader.git) (0.12.0)\n",
      "Requirement already satisfied: jupyter-server-terminals>=0.4.4 in /home/ubuntu/qgss-2025/.venv/lib/python3.12/site-packages (from jupyter-server<3,>=2.4.0->jupyterlab->qc-grader@ git+https://github.com/qiskit-community/Quantum-Challenge-Grader.git->qc-grader[jupyter,qiskit]@ git+https://github.com/qiskit-community/Quantum-Challenge-Grader.git) (0.5.3)\n",
      "Requirement already satisfied: nbconvert>=6.4.4 in /home/ubuntu/qgss-2025/.venv/lib/python3.12/site-packages (from jupyter-server<3,>=2.4.0->jupyterlab->qc-grader@ git+https://github.com/qiskit-community/Quantum-Challenge-Grader.git->qc-grader[jupyter,qiskit]@ git+https://github.com/qiskit-community/Quantum-Challenge-Grader.git) (7.16.6)\n",
      "Requirement already satisfied: nbformat>=5.3.0 in /home/ubuntu/qgss-2025/.venv/lib/python3.12/site-packages (from jupyter-server<3,>=2.4.0->jupyterlab->qc-grader@ git+https://github.com/qiskit-community/Quantum-Challenge-Grader.git->qc-grader[jupyter,qiskit]@ git+https://github.com/qiskit-community/Quantum-Challenge-Grader.git) (5.10.4)\n",
      "Requirement already satisfied: overrides>=5.0 in /home/ubuntu/qgss-2025/.venv/lib/python3.12/site-packages (from jupyter-server<3,>=2.4.0->jupyterlab->qc-grader@ git+https://github.com/qiskit-community/Quantum-Challenge-Grader.git->qc-grader[jupyter,qiskit]@ git+https://github.com/qiskit-community/Quantum-Challenge-Grader.git) (7.7.0)\n",
      "Requirement already satisfied: prometheus-client>=0.9 in /home/ubuntu/qgss-2025/.venv/lib/python3.12/site-packages (from jupyter-server<3,>=2.4.0->jupyterlab->qc-grader@ git+https://github.com/qiskit-community/Quantum-Challenge-Grader.git->qc-grader[jupyter,qiskit]@ git+https://github.com/qiskit-community/Quantum-Challenge-Grader.git) (0.22.1)\n",
      "Requirement already satisfied: send2trash>=1.8.2 in /home/ubuntu/qgss-2025/.venv/lib/python3.12/site-packages (from jupyter-server<3,>=2.4.0->jupyterlab->qc-grader@ git+https://github.com/qiskit-community/Quantum-Challenge-Grader.git->qc-grader[jupyter,qiskit]@ git+https://github.com/qiskit-community/Quantum-Challenge-Grader.git) (1.8.3)\n",
      "Requirement already satisfied: terminado>=0.8.3 in /home/ubuntu/qgss-2025/.venv/lib/python3.12/site-packages (from jupyter-server<3,>=2.4.0->jupyterlab->qc-grader@ git+https://github.com/qiskit-community/Quantum-Challenge-Grader.git->qc-grader[jupyter,qiskit]@ git+https://github.com/qiskit-community/Quantum-Challenge-Grader.git) (0.18.1)\n",
      "Requirement already satisfied: websocket-client>=1.7 in /home/ubuntu/qgss-2025/.venv/lib/python3.12/site-packages (from jupyter-server<3,>=2.4.0->jupyterlab->qc-grader@ git+https://github.com/qiskit-community/Quantum-Challenge-Grader.git->qc-grader[jupyter,qiskit]@ git+https://github.com/qiskit-community/Quantum-Challenge-Grader.git) (1.8.0)\n",
      "Requirement already satisfied: babel>=2.10 in /home/ubuntu/qgss-2025/.venv/lib/python3.12/site-packages (from jupyterlab-server<3,>=2.27.1->jupyterlab->qc-grader@ git+https://github.com/qiskit-community/Quantum-Challenge-Grader.git->qc-grader[jupyter,qiskit]@ git+https://github.com/qiskit-community/Quantum-Challenge-Grader.git) (2.17.0)\n",
      "Requirement already satisfied: json5>=0.9.0 in /home/ubuntu/qgss-2025/.venv/lib/python3.12/site-packages (from jupyterlab-server<3,>=2.27.1->jupyterlab->qc-grader@ git+https://github.com/qiskit-community/Quantum-Challenge-Grader.git->qc-grader[jupyter,qiskit]@ git+https://github.com/qiskit-community/Quantum-Challenge-Grader.git) (0.12.0)\n",
      "Requirement already satisfied: jsonschema>=4.18.0 in /home/ubuntu/qgss-2025/.venv/lib/python3.12/site-packages (from jupyterlab-server<3,>=2.27.1->jupyterlab->qc-grader@ git+https://github.com/qiskit-community/Quantum-Challenge-Grader.git->qc-grader[jupyter,qiskit]@ git+https://github.com/qiskit-community/Quantum-Challenge-Grader.git) (4.24.0)\n",
      "Requirement already satisfied: sniffio>=1.1 in /home/ubuntu/qgss-2025/.venv/lib/python3.12/site-packages (from anyio>=3.1.0->jupyter-server<3,>=2.4.0->jupyterlab->qc-grader@ git+https://github.com/qiskit-community/Quantum-Challenge-Grader.git->qc-grader[jupyter,qiskit]@ git+https://github.com/qiskit-community/Quantum-Challenge-Grader.git) (1.3.1)\n",
      "Requirement already satisfied: argon2-cffi-bindings in /home/ubuntu/qgss-2025/.venv/lib/python3.12/site-packages (from argon2-cffi>=21.1->jupyter-server<3,>=2.4.0->jupyterlab->qc-grader@ git+https://github.com/qiskit-community/Quantum-Challenge-Grader.git->qc-grader[jupyter,qiskit]@ git+https://github.com/qiskit-community/Quantum-Challenge-Grader.git) (21.2.0)\n",
      "Requirement already satisfied: httpcore==1.* in /home/ubuntu/qgss-2025/.venv/lib/python3.12/site-packages (from httpx>=0.25.0->jupyterlab->qc-grader@ git+https://github.com/qiskit-community/Quantum-Challenge-Grader.git->qc-grader[jupyter,qiskit]@ git+https://github.com/qiskit-community/Quantum-Challenge-Grader.git) (1.0.9)\n",
      "Requirement already satisfied: h11>=0.16 in /home/ubuntu/qgss-2025/.venv/lib/python3.12/site-packages (from httpcore==1.*->httpx>=0.25.0->jupyterlab->qc-grader@ git+https://github.com/qiskit-community/Quantum-Challenge-Grader.git->qc-grader[jupyter,qiskit]@ git+https://github.com/qiskit-community/Quantum-Challenge-Grader.git) (0.16.0)\n",
      "Requirement already satisfied: MarkupSafe>=2.0 in /home/ubuntu/qgss-2025/.venv/lib/python3.12/site-packages (from jinja2>=3.0.3->jupyterlab->qc-grader@ git+https://github.com/qiskit-community/Quantum-Challenge-Grader.git->qc-grader[jupyter,qiskit]@ git+https://github.com/qiskit-community/Quantum-Challenge-Grader.git) (3.0.2)\n",
      "Requirement already satisfied: attrs>=22.2.0 in /home/ubuntu/qgss-2025/.venv/lib/python3.12/site-packages (from jsonschema>=4.18.0->jupyterlab-server<3,>=2.27.1->jupyterlab->qc-grader@ git+https://github.com/qiskit-community/Quantum-Challenge-Grader.git->qc-grader[jupyter,qiskit]@ git+https://github.com/qiskit-community/Quantum-Challenge-Grader.git) (25.3.0)\n",
      "Requirement already satisfied: jsonschema-specifications>=2023.03.6 in /home/ubuntu/qgss-2025/.venv/lib/python3.12/site-packages (from jsonschema>=4.18.0->jupyterlab-server<3,>=2.27.1->jupyterlab->qc-grader@ git+https://github.com/qiskit-community/Quantum-Challenge-Grader.git->qc-grader[jupyter,qiskit]@ git+https://github.com/qiskit-community/Quantum-Challenge-Grader.git) (2025.4.1)\n",
      "Requirement already satisfied: referencing>=0.28.4 in /home/ubuntu/qgss-2025/.venv/lib/python3.12/site-packages (from jsonschema>=4.18.0->jupyterlab-server<3,>=2.27.1->jupyterlab->qc-grader@ git+https://github.com/qiskit-community/Quantum-Challenge-Grader.git->qc-grader[jupyter,qiskit]@ git+https://github.com/qiskit-community/Quantum-Challenge-Grader.git) (0.36.2)\n",
      "Requirement already satisfied: rpds-py>=0.7.1 in /home/ubuntu/qgss-2025/.venv/lib/python3.12/site-packages (from jsonschema>=4.18.0->jupyterlab-server<3,>=2.27.1->jupyterlab->qc-grader@ git+https://github.com/qiskit-community/Quantum-Challenge-Grader.git->qc-grader[jupyter,qiskit]@ git+https://github.com/qiskit-community/Quantum-Challenge-Grader.git) (0.26.0)\n",
      "Requirement already satisfied: python-json-logger>=2.0.4 in /home/ubuntu/qgss-2025/.venv/lib/python3.12/site-packages (from jupyter-events>=0.11.0->jupyter-server<3,>=2.4.0->jupyterlab->qc-grader@ git+https://github.com/qiskit-community/Quantum-Challenge-Grader.git->qc-grader[jupyter,qiskit]@ git+https://github.com/qiskit-community/Quantum-Challenge-Grader.git) (3.3.0)\n",
      "Requirement already satisfied: pyyaml>=5.3 in /home/ubuntu/qgss-2025/.venv/lib/python3.12/site-packages (from jupyter-events>=0.11.0->jupyter-server<3,>=2.4.0->jupyterlab->qc-grader@ git+https://github.com/qiskit-community/Quantum-Challenge-Grader.git->qc-grader[jupyter,qiskit]@ git+https://github.com/qiskit-community/Quantum-Challenge-Grader.git) (6.0.2)\n",
      "Requirement already satisfied: rfc3339-validator in /home/ubuntu/qgss-2025/.venv/lib/python3.12/site-packages (from jupyter-events>=0.11.0->jupyter-server<3,>=2.4.0->jupyterlab->qc-grader@ git+https://github.com/qiskit-community/Quantum-Challenge-Grader.git->qc-grader[jupyter,qiskit]@ git+https://github.com/qiskit-community/Quantum-Challenge-Grader.git) (0.1.4)\n",
      "Requirement already satisfied: rfc3986-validator>=0.1.1 in /home/ubuntu/qgss-2025/.venv/lib/python3.12/site-packages (from jupyter-events>=0.11.0->jupyter-server<3,>=2.4.0->jupyterlab->qc-grader@ git+https://github.com/qiskit-community/Quantum-Challenge-Grader.git->qc-grader[jupyter,qiskit]@ git+https://github.com/qiskit-community/Quantum-Challenge-Grader.git) (0.1.1)\n",
      "Requirement already satisfied: fqdn in /home/ubuntu/qgss-2025/.venv/lib/python3.12/site-packages (from jsonschema[format-nongpl]>=4.18.0->jupyter-events>=0.11.0->jupyter-server<3,>=2.4.0->jupyterlab->qc-grader@ git+https://github.com/qiskit-community/Quantum-Challenge-Grader.git->qc-grader[jupyter,qiskit]@ git+https://github.com/qiskit-community/Quantum-Challenge-Grader.git) (1.5.1)\n",
      "Requirement already satisfied: isoduration in /home/ubuntu/qgss-2025/.venv/lib/python3.12/site-packages (from jsonschema[format-nongpl]>=4.18.0->jupyter-events>=0.11.0->jupyter-server<3,>=2.4.0->jupyterlab->qc-grader@ git+https://github.com/qiskit-community/Quantum-Challenge-Grader.git->qc-grader[jupyter,qiskit]@ git+https://github.com/qiskit-community/Quantum-Challenge-Grader.git) (20.11.0)\n",
      "Requirement already satisfied: jsonpointer>1.13 in /home/ubuntu/qgss-2025/.venv/lib/python3.12/site-packages (from jsonschema[format-nongpl]>=4.18.0->jupyter-events>=0.11.0->jupyter-server<3,>=2.4.0->jupyterlab->qc-grader@ git+https://github.com/qiskit-community/Quantum-Challenge-Grader.git->qc-grader[jupyter,qiskit]@ git+https://github.com/qiskit-community/Quantum-Challenge-Grader.git) (3.0.0)\n",
      "Requirement already satisfied: uri-template in /home/ubuntu/qgss-2025/.venv/lib/python3.12/site-packages (from jsonschema[format-nongpl]>=4.18.0->jupyter-events>=0.11.0->jupyter-server<3,>=2.4.0->jupyterlab->qc-grader@ git+https://github.com/qiskit-community/Quantum-Challenge-Grader.git->qc-grader[jupyter,qiskit]@ git+https://github.com/qiskit-community/Quantum-Challenge-Grader.git) (1.3.0)\n",
      "Requirement already satisfied: webcolors>=24.6.0 in /home/ubuntu/qgss-2025/.venv/lib/python3.12/site-packages (from jsonschema[format-nongpl]>=4.18.0->jupyter-events>=0.11.0->jupyter-server<3,>=2.4.0->jupyterlab->qc-grader@ git+https://github.com/qiskit-community/Quantum-Challenge-Grader.git->qc-grader[jupyter,qiskit]@ git+https://github.com/qiskit-community/Quantum-Challenge-Grader.git) (24.11.1)\n",
      "Requirement already satisfied: beautifulsoup4 in /home/ubuntu/qgss-2025/.venv/lib/python3.12/site-packages (from nbconvert>=6.4.4->jupyter-server<3,>=2.4.0->jupyterlab->qc-grader@ git+https://github.com/qiskit-community/Quantum-Challenge-Grader.git->qc-grader[jupyter,qiskit]@ git+https://github.com/qiskit-community/Quantum-Challenge-Grader.git) (4.13.4)\n",
      "Requirement already satisfied: bleach!=5.0.0 in /home/ubuntu/qgss-2025/.venv/lib/python3.12/site-packages (from bleach[css]!=5.0.0->nbconvert>=6.4.4->jupyter-server<3,>=2.4.0->jupyterlab->qc-grader@ git+https://github.com/qiskit-community/Quantum-Challenge-Grader.git->qc-grader[jupyter,qiskit]@ git+https://github.com/qiskit-community/Quantum-Challenge-Grader.git) (6.2.0)\n",
      "Requirement already satisfied: defusedxml in /home/ubuntu/qgss-2025/.venv/lib/python3.12/site-packages (from nbconvert>=6.4.4->jupyter-server<3,>=2.4.0->jupyterlab->qc-grader@ git+https://github.com/qiskit-community/Quantum-Challenge-Grader.git->qc-grader[jupyter,qiskit]@ git+https://github.com/qiskit-community/Quantum-Challenge-Grader.git) (0.7.1)\n",
      "Requirement already satisfied: jupyterlab-pygments in /home/ubuntu/qgss-2025/.venv/lib/python3.12/site-packages (from nbconvert>=6.4.4->jupyter-server<3,>=2.4.0->jupyterlab->qc-grader@ git+https://github.com/qiskit-community/Quantum-Challenge-Grader.git->qc-grader[jupyter,qiskit]@ git+https://github.com/qiskit-community/Quantum-Challenge-Grader.git) (0.3.0)\n",
      "Requirement already satisfied: mistune<4,>=2.0.3 in /home/ubuntu/qgss-2025/.venv/lib/python3.12/site-packages (from nbconvert>=6.4.4->jupyter-server<3,>=2.4.0->jupyterlab->qc-grader@ git+https://github.com/qiskit-community/Quantum-Challenge-Grader.git->qc-grader[jupyter,qiskit]@ git+https://github.com/qiskit-community/Quantum-Challenge-Grader.git) (3.1.3)\n",
      "Requirement already satisfied: nbclient>=0.5.0 in /home/ubuntu/qgss-2025/.venv/lib/python3.12/site-packages (from nbconvert>=6.4.4->jupyter-server<3,>=2.4.0->jupyterlab->qc-grader@ git+https://github.com/qiskit-community/Quantum-Challenge-Grader.git->qc-grader[jupyter,qiskit]@ git+https://github.com/qiskit-community/Quantum-Challenge-Grader.git) (0.10.2)\n",
      "Requirement already satisfied: pandocfilters>=1.4.1 in /home/ubuntu/qgss-2025/.venv/lib/python3.12/site-packages (from nbconvert>=6.4.4->jupyter-server<3,>=2.4.0->jupyterlab->qc-grader@ git+https://github.com/qiskit-community/Quantum-Challenge-Grader.git->qc-grader[jupyter,qiskit]@ git+https://github.com/qiskit-community/Quantum-Challenge-Grader.git) (1.5.1)\n",
      "Requirement already satisfied: webencodings in /home/ubuntu/qgss-2025/.venv/lib/python3.12/site-packages (from bleach!=5.0.0->bleach[css]!=5.0.0->nbconvert>=6.4.4->jupyter-server<3,>=2.4.0->jupyterlab->qc-grader@ git+https://github.com/qiskit-community/Quantum-Challenge-Grader.git->qc-grader[jupyter,qiskit]@ git+https://github.com/qiskit-community/Quantum-Challenge-Grader.git) (0.5.1)\n",
      "Requirement already satisfied: tinycss2<1.5,>=1.1.0 in /home/ubuntu/qgss-2025/.venv/lib/python3.12/site-packages (from bleach[css]!=5.0.0->nbconvert>=6.4.4->jupyter-server<3,>=2.4.0->jupyterlab->qc-grader@ git+https://github.com/qiskit-community/Quantum-Challenge-Grader.git->qc-grader[jupyter,qiskit]@ git+https://github.com/qiskit-community/Quantum-Challenge-Grader.git) (1.4.0)\n",
      "Requirement already satisfied: fastjsonschema>=2.15 in /home/ubuntu/qgss-2025/.venv/lib/python3.12/site-packages (from nbformat>=5.3.0->jupyter-server<3,>=2.4.0->jupyterlab->qc-grader@ git+https://github.com/qiskit-community/Quantum-Challenge-Grader.git->qc-grader[jupyter,qiskit]@ git+https://github.com/qiskit-community/Quantum-Challenge-Grader.git) (2.21.1)\n",
      "Requirement already satisfied: cffi>=1.0.1 in /home/ubuntu/qgss-2025/.venv/lib/python3.12/site-packages (from argon2-cffi-bindings->argon2-cffi>=21.1->jupyter-server<3,>=2.4.0->jupyterlab->qc-grader@ git+https://github.com/qiskit-community/Quantum-Challenge-Grader.git->qc-grader[jupyter,qiskit]@ git+https://github.com/qiskit-community/Quantum-Challenge-Grader.git) (1.17.1)\n",
      "Requirement already satisfied: pycparser in /home/ubuntu/qgss-2025/.venv/lib/python3.12/site-packages (from cffi>=1.0.1->argon2-cffi-bindings->argon2-cffi>=21.1->jupyter-server<3,>=2.4.0->jupyterlab->qc-grader@ git+https://github.com/qiskit-community/Quantum-Challenge-Grader.git->qc-grader[jupyter,qiskit]@ git+https://github.com/qiskit-community/Quantum-Challenge-Grader.git) (2.22)\n",
      "Requirement already satisfied: soupsieve>1.2 in /home/ubuntu/qgss-2025/.venv/lib/python3.12/site-packages (from beautifulsoup4->nbconvert>=6.4.4->jupyter-server<3,>=2.4.0->jupyterlab->qc-grader@ git+https://github.com/qiskit-community/Quantum-Challenge-Grader.git->qc-grader[jupyter,qiskit]@ git+https://github.com/qiskit-community/Quantum-Challenge-Grader.git) (2.7)\n",
      "Requirement already satisfied: arrow>=0.15.0 in /home/ubuntu/qgss-2025/.venv/lib/python3.12/site-packages (from isoduration->jsonschema[format-nongpl]>=4.18.0->jupyter-events>=0.11.0->jupyter-server<3,>=2.4.0->jupyterlab->qc-grader@ git+https://github.com/qiskit-community/Quantum-Challenge-Grader.git->qc-grader[jupyter,qiskit]@ git+https://github.com/qiskit-community/Quantum-Challenge-Grader.git) (1.3.0)\n",
      "Requirement already satisfied: types-python-dateutil>=2.8.10 in /home/ubuntu/qgss-2025/.venv/lib/python3.12/site-packages (from arrow>=0.15.0->isoduration->jsonschema[format-nongpl]>=4.18.0->jupyter-events>=0.11.0->jupyter-server<3,>=2.4.0->jupyterlab->qc-grader@ git+https://github.com/qiskit-community/Quantum-Challenge-Grader.git->qc-grader[jupyter,qiskit]@ git+https://github.com/qiskit-community/Quantum-Challenge-Grader.git) (2.9.0.20250708)\n",
      "Requirement already satisfied: narwhals>=1.15.1 in /home/ubuntu/qgss-2025/.venv/lib/python3.12/site-packages (from plotly->qc-grader@ git+https://github.com/qiskit-community/Quantum-Challenge-Grader.git->qc-grader[jupyter,qiskit]@ git+https://github.com/qiskit-community/Quantum-Challenge-Grader.git) (1.47.0)\n",
      "Requirement already satisfied: requests-ntlm>=1.1.0 in /home/ubuntu/qgss-2025/.venv/lib/python3.12/site-packages (from qiskit-ibm-runtime->qc-grader@ git+https://github.com/qiskit-community/Quantum-Challenge-Grader.git->qc-grader[jupyter,qiskit]@ git+https://github.com/qiskit-community/Quantum-Challenge-Grader.git) (1.3.0)\n",
      "Requirement already satisfied: pydantic>=2.5.0 in /home/ubuntu/qgss-2025/.venv/lib/python3.12/site-packages (from qiskit-ibm-runtime->qc-grader@ git+https://github.com/qiskit-community/Quantum-Challenge-Grader.git->qc-grader[jupyter,qiskit]@ git+https://github.com/qiskit-community/Quantum-Challenge-Grader.git) (2.11.7)\n",
      "Requirement already satisfied: annotated-types>=0.6.0 in /home/ubuntu/qgss-2025/.venv/lib/python3.12/site-packages (from pydantic>=2.5.0->qiskit-ibm-runtime->qc-grader@ git+https://github.com/qiskit-community/Quantum-Challenge-Grader.git->qc-grader[jupyter,qiskit]@ git+https://github.com/qiskit-community/Quantum-Challenge-Grader.git) (0.7.0)\n",
      "Requirement already satisfied: pydantic-core==2.33.2 in /home/ubuntu/qgss-2025/.venv/lib/python3.12/site-packages (from pydantic>=2.5.0->qiskit-ibm-runtime->qc-grader@ git+https://github.com/qiskit-community/Quantum-Challenge-Grader.git->qc-grader[jupyter,qiskit]@ git+https://github.com/qiskit-community/Quantum-Challenge-Grader.git) (2.33.2)\n",
      "Requirement already satisfied: typing-inspection>=0.4.0 in /home/ubuntu/qgss-2025/.venv/lib/python3.12/site-packages (from pydantic>=2.5.0->qiskit-ibm-runtime->qc-grader@ git+https://github.com/qiskit-community/Quantum-Challenge-Grader.git->qc-grader[jupyter,qiskit]@ git+https://github.com/qiskit-community/Quantum-Challenge-Grader.git) (0.4.1)\n",
      "Requirement already satisfied: cryptography>=1.3 in /home/ubuntu/qgss-2025/.venv/lib/python3.12/site-packages (from requests-ntlm>=1.1.0->qiskit-ibm-runtime->qc-grader@ git+https://github.com/qiskit-community/Quantum-Challenge-Grader.git->qc-grader[jupyter,qiskit]@ git+https://github.com/qiskit-community/Quantum-Challenge-Grader.git) (45.0.5)\n",
      "Requirement already satisfied: pyspnego>=0.4.0 in /home/ubuntu/qgss-2025/.venv/lib/python3.12/site-packages (from requests-ntlm>=1.1.0->qiskit-ibm-runtime->qc-grader@ git+https://github.com/qiskit-community/Quantum-Challenge-Grader.git->qc-grader[jupyter,qiskit]@ git+https://github.com/qiskit-community/Quantum-Challenge-Grader.git) (0.11.2)\n",
      "Requirement already satisfied: ray<3,>=2.30 in /home/ubuntu/qgss-2025/.venv/lib/python3.12/site-packages (from ray[default]<3,>=2.30->qiskit_serverless->qc-grader@ git+https://github.com/qiskit-community/Quantum-Challenge-Grader.git->qc-grader[jupyter,qiskit]@ git+https://github.com/qiskit-community/Quantum-Challenge-Grader.git) (2.47.1)\n",
      "Requirement already satisfied: importlib-metadata<9,>=5.2.0 in /home/ubuntu/qgss-2025/.venv/lib/python3.12/site-packages (from qiskit_serverless->qc-grader@ git+https://github.com/qiskit-community/Quantum-Challenge-Grader.git->qc-grader[jupyter,qiskit]@ git+https://github.com/qiskit-community/Quantum-Challenge-Grader.git) (8.4.0)\n",
      "Requirement already satisfied: cloudpickle==2.2.1 in /home/ubuntu/qgss-2025/.venv/lib/python3.12/site-packages (from qiskit_serverless->qc-grader@ git+https://github.com/qiskit-community/Quantum-Challenge-Grader.git->qc-grader[jupyter,qiskit]@ git+https://github.com/qiskit-community/Quantum-Challenge-Grader.git) (2.2.1)\n",
      "Requirement already satisfied: tqdm<5,>=4.66.3 in /home/ubuntu/qgss-2025/.venv/lib/python3.12/site-packages (from qiskit_serverless->qc-grader@ git+https://github.com/qiskit-community/Quantum-Challenge-Grader.git->qc-grader[jupyter,qiskit]@ git+https://github.com/qiskit-community/Quantum-Challenge-Grader.git) (4.67.1)\n",
      "Requirement already satisfied: opentelemetry-api<1.33.1,>=1.18.0 in /home/ubuntu/qgss-2025/.venv/lib/python3.12/site-packages (from qiskit_serverless->qc-grader@ git+https://github.com/qiskit-community/Quantum-Challenge-Grader.git->qc-grader[jupyter,qiskit]@ git+https://github.com/qiskit-community/Quantum-Challenge-Grader.git) (1.33.0)\n",
      "Requirement already satisfied: opentelemetry-sdk<1.33.1,>=1.18.0 in /home/ubuntu/qgss-2025/.venv/lib/python3.12/site-packages (from qiskit_serverless->qc-grader@ git+https://github.com/qiskit-community/Quantum-Challenge-Grader.git->qc-grader[jupyter,qiskit]@ git+https://github.com/qiskit-community/Quantum-Challenge-Grader.git) (1.33.0)\n",
      "Requirement already satisfied: opentelemetry-exporter-otlp-proto-grpc<1.33.1,>=1.18.0 in /home/ubuntu/qgss-2025/.venv/lib/python3.12/site-packages (from qiskit_serverless->qc-grader@ git+https://github.com/qiskit-community/Quantum-Challenge-Grader.git->qc-grader[jupyter,qiskit]@ git+https://github.com/qiskit-community/Quantum-Challenge-Grader.git) (1.33.0)\n",
      "Requirement already satisfied: s3fs>=2023.6.0 in /home/ubuntu/qgss-2025/.venv/lib/python3.12/site-packages (from qiskit_serverless->qc-grader@ git+https://github.com/qiskit-community/Quantum-Challenge-Grader.git->qc-grader[jupyter,qiskit]@ git+https://github.com/qiskit-community/Quantum-Challenge-Grader.git) (2025.7.0)\n",
      "Requirement already satisfied: opentelemetry-instrumentation-requests>=0.40b0 in /home/ubuntu/qgss-2025/.venv/lib/python3.12/site-packages (from qiskit_serverless->qc-grader@ git+https://github.com/qiskit-community/Quantum-Challenge-Grader.git->qc-grader[jupyter,qiskit]@ git+https://github.com/qiskit-community/Quantum-Challenge-Grader.git) (0.54b0)\n",
      "Requirement already satisfied: pyarrow<19,>=16.0.0 in /home/ubuntu/qgss-2025/.venv/lib/python3.12/site-packages (from qiskit_serverless->qc-grader@ git+https://github.com/qiskit-community/Quantum-Challenge-Grader.git->qc-grader[jupyter,qiskit]@ git+https://github.com/qiskit-community/Quantum-Challenge-Grader.git) (18.1.0)\n",
      "Requirement already satisfied: aiohttp<4,>=3.10.0 in /home/ubuntu/qgss-2025/.venv/lib/python3.12/site-packages (from qiskit_serverless->qc-grader@ git+https://github.com/qiskit-community/Quantum-Challenge-Grader.git->qc-grader[jupyter,qiskit]@ git+https://github.com/qiskit-community/Quantum-Challenge-Grader.git) (3.12.14)\n",
      "Requirement already satisfied: zipp==3.19.1 in /home/ubuntu/qgss-2025/.venv/lib/python3.12/site-packages (from qiskit_serverless->qc-grader@ git+https://github.com/qiskit-community/Quantum-Challenge-Grader.git->qc-grader[jupyter,qiskit]@ git+https://github.com/qiskit-community/Quantum-Challenge-Grader.git) (3.19.1)\n",
      "Requirement already satisfied: aiohappyeyeballs>=2.5.0 in /home/ubuntu/qgss-2025/.venv/lib/python3.12/site-packages (from aiohttp<4,>=3.10.0->qiskit_serverless->qc-grader@ git+https://github.com/qiskit-community/Quantum-Challenge-Grader.git->qc-grader[jupyter,qiskit]@ git+https://github.com/qiskit-community/Quantum-Challenge-Grader.git) (2.6.1)\n",
      "Requirement already satisfied: aiosignal>=1.4.0 in /home/ubuntu/qgss-2025/.venv/lib/python3.12/site-packages (from aiohttp<4,>=3.10.0->qiskit_serverless->qc-grader@ git+https://github.com/qiskit-community/Quantum-Challenge-Grader.git->qc-grader[jupyter,qiskit]@ git+https://github.com/qiskit-community/Quantum-Challenge-Grader.git) (1.4.0)\n",
      "Requirement already satisfied: frozenlist>=1.1.1 in /home/ubuntu/qgss-2025/.venv/lib/python3.12/site-packages (from aiohttp<4,>=3.10.0->qiskit_serverless->qc-grader@ git+https://github.com/qiskit-community/Quantum-Challenge-Grader.git->qc-grader[jupyter,qiskit]@ git+https://github.com/qiskit-community/Quantum-Challenge-Grader.git) (1.7.0)\n",
      "Requirement already satisfied: multidict<7.0,>=4.5 in /home/ubuntu/qgss-2025/.venv/lib/python3.12/site-packages (from aiohttp<4,>=3.10.0->qiskit_serverless->qc-grader@ git+https://github.com/qiskit-community/Quantum-Challenge-Grader.git->qc-grader[jupyter,qiskit]@ git+https://github.com/qiskit-community/Quantum-Challenge-Grader.git) (6.6.3)\n",
      "Requirement already satisfied: propcache>=0.2.0 in /home/ubuntu/qgss-2025/.venv/lib/python3.12/site-packages (from aiohttp<4,>=3.10.0->qiskit_serverless->qc-grader@ git+https://github.com/qiskit-community/Quantum-Challenge-Grader.git->qc-grader[jupyter,qiskit]@ git+https://github.com/qiskit-community/Quantum-Challenge-Grader.git) (0.3.2)\n",
      "Requirement already satisfied: yarl<2.0,>=1.17.0 in /home/ubuntu/qgss-2025/.venv/lib/python3.12/site-packages (from aiohttp<4,>=3.10.0->qiskit_serverless->qc-grader@ git+https://github.com/qiskit-community/Quantum-Challenge-Grader.git->qc-grader[jupyter,qiskit]@ git+https://github.com/qiskit-community/Quantum-Challenge-Grader.git) (1.20.1)\n",
      "Requirement already satisfied: deprecated>=1.2.6 in /home/ubuntu/qgss-2025/.venv/lib/python3.12/site-packages (from opentelemetry-api<1.33.1,>=1.18.0->qiskit_serverless->qc-grader@ git+https://github.com/qiskit-community/Quantum-Challenge-Grader.git->qc-grader[jupyter,qiskit]@ git+https://github.com/qiskit-community/Quantum-Challenge-Grader.git) (1.2.18)\n",
      "Requirement already satisfied: googleapis-common-protos~=1.52 in /home/ubuntu/qgss-2025/.venv/lib/python3.12/site-packages (from opentelemetry-exporter-otlp-proto-grpc<1.33.1,>=1.18.0->qiskit_serverless->qc-grader@ git+https://github.com/qiskit-community/Quantum-Challenge-Grader.git->qc-grader[jupyter,qiskit]@ git+https://github.com/qiskit-community/Quantum-Challenge-Grader.git) (1.70.0)\n",
      "Requirement already satisfied: grpcio<2.0.0,>=1.63.2 in /home/ubuntu/qgss-2025/.venv/lib/python3.12/site-packages (from opentelemetry-exporter-otlp-proto-grpc<1.33.1,>=1.18.0->qiskit_serverless->qc-grader@ git+https://github.com/qiskit-community/Quantum-Challenge-Grader.git->qc-grader[jupyter,qiskit]@ git+https://github.com/qiskit-community/Quantum-Challenge-Grader.git) (1.73.1)\n",
      "Requirement already satisfied: opentelemetry-exporter-otlp-proto-common==1.33.0 in /home/ubuntu/qgss-2025/.venv/lib/python3.12/site-packages (from opentelemetry-exporter-otlp-proto-grpc<1.33.1,>=1.18.0->qiskit_serverless->qc-grader@ git+https://github.com/qiskit-community/Quantum-Challenge-Grader.git->qc-grader[jupyter,qiskit]@ git+https://github.com/qiskit-community/Quantum-Challenge-Grader.git) (1.33.0)\n",
      "Requirement already satisfied: opentelemetry-proto==1.33.0 in /home/ubuntu/qgss-2025/.venv/lib/python3.12/site-packages (from opentelemetry-exporter-otlp-proto-grpc<1.33.1,>=1.18.0->qiskit_serverless->qc-grader@ git+https://github.com/qiskit-community/Quantum-Challenge-Grader.git->qc-grader[jupyter,qiskit]@ git+https://github.com/qiskit-community/Quantum-Challenge-Grader.git) (1.33.0)\n",
      "Requirement already satisfied: protobuf<6.0,>=5.0 in /home/ubuntu/qgss-2025/.venv/lib/python3.12/site-packages (from opentelemetry-proto==1.33.0->opentelemetry-exporter-otlp-proto-grpc<1.33.1,>=1.18.0->qiskit_serverless->qc-grader@ git+https://github.com/qiskit-community/Quantum-Challenge-Grader.git->qc-grader[jupyter,qiskit]@ git+https://github.com/qiskit-community/Quantum-Challenge-Grader.git) (5.29.5)\n",
      "Requirement already satisfied: opentelemetry-semantic-conventions==0.54b0 in /home/ubuntu/qgss-2025/.venv/lib/python3.12/site-packages (from opentelemetry-sdk<1.33.1,>=1.18.0->qiskit_serverless->qc-grader@ git+https://github.com/qiskit-community/Quantum-Challenge-Grader.git->qc-grader[jupyter,qiskit]@ git+https://github.com/qiskit-community/Quantum-Challenge-Grader.git) (0.54b0)\n",
      "Requirement already satisfied: symengine<0.14,>=0.11 in /home/ubuntu/qgss-2025/.venv/lib/python3.12/site-packages (from qiskit~=2.1.0->qiskit[visualization]~=2.1.0; extra == \"qiskit\"->qc-grader@ git+https://github.com/qiskit-community/Quantum-Challenge-Grader.git->qc-grader[jupyter,qiskit]@ git+https://github.com/qiskit-community/Quantum-Challenge-Grader.git) (0.13.0)\n",
      "Requirement already satisfied: click>=7.0 in /home/ubuntu/qgss-2025/.venv/lib/python3.12/site-packages (from ray<3,>=2.30->ray[default]<3,>=2.30->qiskit_serverless->qc-grader@ git+https://github.com/qiskit-community/Quantum-Challenge-Grader.git->qc-grader[jupyter,qiskit]@ git+https://github.com/qiskit-community/Quantum-Challenge-Grader.git) (8.2.1)\n",
      "Requirement already satisfied: filelock in /home/ubuntu/qgss-2025/.venv/lib/python3.12/site-packages (from ray<3,>=2.30->ray[default]<3,>=2.30->qiskit_serverless->qc-grader@ git+https://github.com/qiskit-community/Quantum-Challenge-Grader.git->qc-grader[jupyter,qiskit]@ git+https://github.com/qiskit-community/Quantum-Challenge-Grader.git) (3.18.0)\n",
      "Requirement already satisfied: msgpack<2.0.0,>=1.0.0 in /home/ubuntu/qgss-2025/.venv/lib/python3.12/site-packages (from ray<3,>=2.30->ray[default]<3,>=2.30->qiskit_serverless->qc-grader@ git+https://github.com/qiskit-community/Quantum-Challenge-Grader.git->qc-grader[jupyter,qiskit]@ git+https://github.com/qiskit-community/Quantum-Challenge-Grader.git) (1.1.1)\n",
      "Requirement already satisfied: aiohttp_cors in /home/ubuntu/qgss-2025/.venv/lib/python3.12/site-packages (from ray[default]<3,>=2.30->qiskit_serverless->qc-grader@ git+https://github.com/qiskit-community/Quantum-Challenge-Grader.git->qc-grader[jupyter,qiskit]@ git+https://github.com/qiskit-community/Quantum-Challenge-Grader.git) (0.8.1)\n",
      "Requirement already satisfied: colorful in /home/ubuntu/qgss-2025/.venv/lib/python3.12/site-packages (from ray[default]<3,>=2.30->qiskit_serverless->qc-grader@ git+https://github.com/qiskit-community/Quantum-Challenge-Grader.git->qc-grader[jupyter,qiskit]@ git+https://github.com/qiskit-community/Quantum-Challenge-Grader.git) (0.5.7)\n",
      "Requirement already satisfied: py-spy>=0.4.0 in /home/ubuntu/qgss-2025/.venv/lib/python3.12/site-packages (from ray[default]<3,>=2.30->qiskit_serverless->qc-grader@ git+https://github.com/qiskit-community/Quantum-Challenge-Grader.git->qc-grader[jupyter,qiskit]@ git+https://github.com/qiskit-community/Quantum-Challenge-Grader.git) (0.4.0)\n",
      "Requirement already satisfied: opencensus in /home/ubuntu/qgss-2025/.venv/lib/python3.12/site-packages (from ray[default]<3,>=2.30->qiskit_serverless->qc-grader@ git+https://github.com/qiskit-community/Quantum-Challenge-Grader.git->qc-grader[jupyter,qiskit]@ git+https://github.com/qiskit-community/Quantum-Challenge-Grader.git) (0.11.4)\n",
      "Requirement already satisfied: opentelemetry-exporter-prometheus in /home/ubuntu/qgss-2025/.venv/lib/python3.12/site-packages (from ray[default]<3,>=2.30->qiskit_serverless->qc-grader@ git+https://github.com/qiskit-community/Quantum-Challenge-Grader.git->qc-grader[jupyter,qiskit]@ git+https://github.com/qiskit-community/Quantum-Challenge-Grader.git) (0.54b0)\n",
      "Requirement already satisfied: smart_open in /home/ubuntu/qgss-2025/.venv/lib/python3.12/site-packages (from ray[default]<3,>=2.30->qiskit_serverless->qc-grader@ git+https://github.com/qiskit-community/Quantum-Challenge-Grader.git->qc-grader[jupyter,qiskit]@ git+https://github.com/qiskit-community/Quantum-Challenge-Grader.git) (7.3.0.post1)\n",
      "Requirement already satisfied: virtualenv!=20.21.1,>=20.0.24 in /home/ubuntu/qgss-2025/.venv/lib/python3.12/site-packages (from ray[default]<3,>=2.30->qiskit_serverless->qc-grader@ git+https://github.com/qiskit-community/Quantum-Challenge-Grader.git->qc-grader[jupyter,qiskit]@ git+https://github.com/qiskit-community/Quantum-Challenge-Grader.git) (20.31.2)\n",
      "Requirement already satisfied: wrapt<2,>=1.10 in /home/ubuntu/qgss-2025/.venv/lib/python3.12/site-packages (from deprecated>=1.2.6->opentelemetry-api<1.33.1,>=1.18.0->qiskit_serverless->qc-grader@ git+https://github.com/qiskit-community/Quantum-Challenge-Grader.git->qc-grader[jupyter,qiskit]@ git+https://github.com/qiskit-community/Quantum-Challenge-Grader.git) (1.17.2)\n",
      "Requirement already satisfied: opentelemetry-instrumentation==0.54b0 in /home/ubuntu/qgss-2025/.venv/lib/python3.12/site-packages (from opentelemetry-instrumentation-requests>=0.40b0->qiskit_serverless->qc-grader@ git+https://github.com/qiskit-community/Quantum-Challenge-Grader.git->qc-grader[jupyter,qiskit]@ git+https://github.com/qiskit-community/Quantum-Challenge-Grader.git) (0.54b0)\n",
      "Requirement already satisfied: opentelemetry-util-http==0.54b0 in /home/ubuntu/qgss-2025/.venv/lib/python3.12/site-packages (from opentelemetry-instrumentation-requests>=0.40b0->qiskit_serverless->qc-grader@ git+https://github.com/qiskit-community/Quantum-Challenge-Grader.git->qc-grader[jupyter,qiskit]@ git+https://github.com/qiskit-community/Quantum-Challenge-Grader.git) (0.54b0)\n",
      "Requirement already satisfied: aiobotocore<3.0.0,>=2.5.4 in /home/ubuntu/qgss-2025/.venv/lib/python3.12/site-packages (from s3fs>=2023.6.0->qiskit_serverless->qc-grader@ git+https://github.com/qiskit-community/Quantum-Challenge-Grader.git->qc-grader[jupyter,qiskit]@ git+https://github.com/qiskit-community/Quantum-Challenge-Grader.git) (2.23.0)\n",
      "Requirement already satisfied: fsspec==2025.7.0 in /home/ubuntu/qgss-2025/.venv/lib/python3.12/site-packages (from s3fs>=2023.6.0->qiskit_serverless->qc-grader@ git+https://github.com/qiskit-community/Quantum-Challenge-Grader.git->qc-grader[jupyter,qiskit]@ git+https://github.com/qiskit-community/Quantum-Challenge-Grader.git) (2025.7.0)\n",
      "Requirement already satisfied: aioitertools<1.0.0,>=0.5.1 in /home/ubuntu/qgss-2025/.venv/lib/python3.12/site-packages (from aiobotocore<3.0.0,>=2.5.4->s3fs>=2023.6.0->qiskit_serverless->qc-grader@ git+https://github.com/qiskit-community/Quantum-Challenge-Grader.git->qc-grader[jupyter,qiskit]@ git+https://github.com/qiskit-community/Quantum-Challenge-Grader.git) (0.12.0)\n",
      "Requirement already satisfied: botocore<1.38.28,>=1.38.23 in /home/ubuntu/qgss-2025/.venv/lib/python3.12/site-packages (from aiobotocore<3.0.0,>=2.5.4->s3fs>=2023.6.0->qiskit_serverless->qc-grader@ git+https://github.com/qiskit-community/Quantum-Challenge-Grader.git->qc-grader[jupyter,qiskit]@ git+https://github.com/qiskit-community/Quantum-Challenge-Grader.git) (1.38.27)\n",
      "Requirement already satisfied: jmespath<2.0.0,>=0.7.1 in /home/ubuntu/qgss-2025/.venv/lib/python3.12/site-packages (from aiobotocore<3.0.0,>=2.5.4->s3fs>=2023.6.0->qiskit_serverless->qc-grader@ git+https://github.com/qiskit-community/Quantum-Challenge-Grader.git->qc-grader[jupyter,qiskit]@ git+https://github.com/qiskit-community/Quantum-Challenge-Grader.git) (1.0.1)\n",
      "Requirement already satisfied: distlib<1,>=0.3.7 in /home/ubuntu/qgss-2025/.venv/lib/python3.12/site-packages (from virtualenv!=20.21.1,>=20.0.24->ray[default]<3,>=2.30->qiskit_serverless->qc-grader@ git+https://github.com/qiskit-community/Quantum-Challenge-Grader.git->qc-grader[jupyter,qiskit]@ git+https://github.com/qiskit-community/Quantum-Challenge-Grader.git) (0.3.9)\n",
      "Requirement already satisfied: opencensus-context>=0.1.3 in /home/ubuntu/qgss-2025/.venv/lib/python3.12/site-packages (from opencensus->ray[default]<3,>=2.30->qiskit_serverless->qc-grader@ git+https://github.com/qiskit-community/Quantum-Challenge-Grader.git->qc-grader[jupyter,qiskit]@ git+https://github.com/qiskit-community/Quantum-Challenge-Grader.git) (0.1.3)\n",
      "Requirement already satisfied: google-api-core<3.0.0,>=1.0.0 in /home/ubuntu/qgss-2025/.venv/lib/python3.12/site-packages (from opencensus->ray[default]<3,>=2.30->qiskit_serverless->qc-grader@ git+https://github.com/qiskit-community/Quantum-Challenge-Grader.git->qc-grader[jupyter,qiskit]@ git+https://github.com/qiskit-community/Quantum-Challenge-Grader.git) (2.25.1)\n",
      "Requirement already satisfied: proto-plus<2.0.0,>=1.22.3 in /home/ubuntu/qgss-2025/.venv/lib/python3.12/site-packages (from google-api-core<3.0.0,>=1.0.0->opencensus->ray[default]<3,>=2.30->qiskit_serverless->qc-grader@ git+https://github.com/qiskit-community/Quantum-Challenge-Grader.git->qc-grader[jupyter,qiskit]@ git+https://github.com/qiskit-community/Quantum-Challenge-Grader.git) (1.26.1)\n",
      "Requirement already satisfied: google-auth<3.0.0,>=2.14.1 in /home/ubuntu/qgss-2025/.venv/lib/python3.12/site-packages (from google-api-core<3.0.0,>=1.0.0->opencensus->ray[default]<3,>=2.30->qiskit_serverless->qc-grader@ git+https://github.com/qiskit-community/Quantum-Challenge-Grader.git->qc-grader[jupyter,qiskit]@ git+https://github.com/qiskit-community/Quantum-Challenge-Grader.git) (2.40.3)\n",
      "Requirement already satisfied: cachetools<6.0,>=2.0.0 in /home/ubuntu/qgss-2025/.venv/lib/python3.12/site-packages (from google-auth<3.0.0,>=2.14.1->google-api-core<3.0.0,>=1.0.0->opencensus->ray[default]<3,>=2.30->qiskit_serverless->qc-grader@ git+https://github.com/qiskit-community/Quantum-Challenge-Grader.git->qc-grader[jupyter,qiskit]@ git+https://github.com/qiskit-community/Quantum-Challenge-Grader.git) (5.5.2)\n",
      "Requirement already satisfied: pyasn1-modules>=0.2.1 in /home/ubuntu/qgss-2025/.venv/lib/python3.12/site-packages (from google-auth<3.0.0,>=2.14.1->google-api-core<3.0.0,>=1.0.0->opencensus->ray[default]<3,>=2.30->qiskit_serverless->qc-grader@ git+https://github.com/qiskit-community/Quantum-Challenge-Grader.git->qc-grader[jupyter,qiskit]@ git+https://github.com/qiskit-community/Quantum-Challenge-Grader.git) (0.4.2)\n",
      "Requirement already satisfied: rsa<5,>=3.1.4 in /home/ubuntu/qgss-2025/.venv/lib/python3.12/site-packages (from google-auth<3.0.0,>=2.14.1->google-api-core<3.0.0,>=1.0.0->opencensus->ray[default]<3,>=2.30->qiskit_serverless->qc-grader@ git+https://github.com/qiskit-community/Quantum-Challenge-Grader.git->qc-grader[jupyter,qiskit]@ git+https://github.com/qiskit-community/Quantum-Challenge-Grader.git) (4.9.1)\n",
      "Requirement already satisfied: pyasn1>=0.1.3 in /home/ubuntu/qgss-2025/.venv/lib/python3.12/site-packages (from rsa<5,>=3.1.4->google-auth<3.0.0,>=2.14.1->google-api-core<3.0.0,>=1.0.0->opencensus->ray[default]<3,>=2.30->qiskit_serverless->qc-grader@ git+https://github.com/qiskit-community/Quantum-Challenge-Grader.git->qc-grader[jupyter,qiskit]@ git+https://github.com/qiskit-community/Quantum-Challenge-Grader.git) (0.6.1)\n",
      "Requirement already satisfied: executing>=1.2.0 in /home/ubuntu/qgss-2025/.venv/lib/python3.12/site-packages (from stack_data->ipython>=6.1.0->ipywidgets>=7.6.0->ipycytoscape->qc-grader@ git+https://github.com/qiskit-community/Quantum-Challenge-Grader.git->qc-grader[jupyter,qiskit]@ git+https://github.com/qiskit-community/Quantum-Challenge-Grader.git) (2.2.0)\n",
      "Requirement already satisfied: asttokens>=2.1.0 in /home/ubuntu/qgss-2025/.venv/lib/python3.12/site-packages (from stack_data->ipython>=6.1.0->ipywidgets>=7.6.0->ipycytoscape->qc-grader@ git+https://github.com/qiskit-community/Quantum-Challenge-Grader.git->qc-grader[jupyter,qiskit]@ git+https://github.com/qiskit-community/Quantum-Challenge-Grader.git) (3.0.0)\n",
      "Requirement already satisfied: pure-eval in /home/ubuntu/qgss-2025/.venv/lib/python3.12/site-packages (from stack_data->ipython>=6.1.0->ipywidgets>=7.6.0->ipycytoscape->qc-grader@ git+https://github.com/qiskit-community/Quantum-Challenge-Grader.git->qc-grader[jupyter,qiskit]@ git+https://github.com/qiskit-community/Quantum-Challenge-Grader.git) (0.2.3)\n",
      "Note: you may need to restart the kernel to use updated packages.\n",
      "Requirement already satisfied: qiskit~=2.1.0 in /home/ubuntu/qgss-2025/.venv/lib/python3.12/site-packages (from qiskit[visualization]~=2.1.0) (2.1.1)\n",
      "Collecting qiskit-serverless~=0.24.0\n",
      "  Downloading qiskit_serverless-0.24.0-py3-none-any.whl.metadata (5.4 kB)\n",
      "Collecting qiskit-ibm-catalog~=0.8.0\n",
      "  Downloading qiskit_ibm_catalog-0.8.0-py3-none-any.whl.metadata (16 kB)\n",
      "Collecting yfinance==0.2.60\n",
      "  Downloading yfinance-0.2.60-py2.py3-none-any.whl.metadata (5.8 kB)\n",
      "Collecting pandas==2.1.4\n",
      "  Downloading pandas-2.1.4-cp312-cp312-manylinux_2_17_x86_64.manylinux2014_x86_64.whl.metadata (18 kB)\n",
      "Requirement already satisfied: numpy>=1.16.5 in /home/ubuntu/qgss-2025/.venv/lib/python3.12/site-packages (from yfinance==0.2.60) (2.3.1)\n",
      "Requirement already satisfied: requests>=2.31 in /home/ubuntu/qgss-2025/.venv/lib/python3.12/site-packages (from yfinance==0.2.60) (2.32.3)\n",
      "Collecting multitasking>=0.0.7 (from yfinance==0.2.60)\n",
      "  Downloading multitasking-0.0.11-py3-none-any.whl.metadata (5.5 kB)\n",
      "Requirement already satisfied: platformdirs>=2.0.0 in /home/ubuntu/qgss-2025/.venv/lib/python3.12/site-packages (from yfinance==0.2.60) (4.3.8)\n",
      "Requirement already satisfied: pytz>=2022.5 in /home/ubuntu/qgss-2025/.venv/lib/python3.12/site-packages (from yfinance==0.2.60) (2025.2)\n",
      "Collecting frozendict>=2.3.4 (from yfinance==0.2.60)\n",
      "  Downloading frozendict-2.4.6-py312-none-any.whl.metadata (23 kB)\n",
      "Collecting peewee>=3.16.2 (from yfinance==0.2.60)\n",
      "  Downloading peewee-3.18.2.tar.gz (949 kB)\n",
      "\u001b[2K     \u001b[90m━━━━━━━━━━━━━━━━━━━━━━━━━━━━━━━━━━━━━━\u001b[0m \u001b[32m949.2/949.2 kB\u001b[0m \u001b[31m47.3 MB/s\u001b[0m eta \u001b[36m0:00:00\u001b[0m\n",
      "\u001b[?25h  Installing build dependencies ... \u001b[?25ldone\n",
      "\u001b[?25h  Getting requirements to build wheel ... \u001b[?25ldone\n",
      "\u001b[?25h  Preparing metadata (pyproject.toml) ... \u001b[?25ldone\n",
      "\u001b[?25hRequirement already satisfied: beautifulsoup4>=4.11.1 in /home/ubuntu/qgss-2025/.venv/lib/python3.12/site-packages (from yfinance==0.2.60) (4.13.4)\n",
      "Collecting curl_cffi>=0.7 (from yfinance==0.2.60)\n",
      "  Downloading curl_cffi-0.12.0-cp39-abi3-manylinux_2_17_x86_64.manylinux2014_x86_64.whl.metadata (14 kB)\n",
      "Requirement already satisfied: protobuf>=3.19.0 in /home/ubuntu/qgss-2025/.venv/lib/python3.12/site-packages (from yfinance==0.2.60) (5.29.5)\n",
      "Collecting websockets>=13.0 (from yfinance==0.2.60)\n",
      "  Downloading websockets-15.0.1-cp312-cp312-manylinux_2_5_x86_64.manylinux1_x86_64.manylinux_2_17_x86_64.manylinux2014_x86_64.whl.metadata (6.8 kB)\n",
      "Collecting numpy>=1.16.5 (from yfinance==0.2.60)\n",
      "  Downloading numpy-1.26.4-cp312-cp312-manylinux_2_17_x86_64.manylinux2014_x86_64.whl.metadata (61 kB)\n",
      "Requirement already satisfied: python-dateutil>=2.8.2 in /home/ubuntu/qgss-2025/.venv/lib/python3.12/site-packages (from pandas==2.1.4) (2.9.0.post0)\n",
      "Requirement already satisfied: tzdata>=2022.1 in /home/ubuntu/qgss-2025/.venv/lib/python3.12/site-packages (from pandas==2.1.4) (2025.2)\n",
      "Requirement already satisfied: rustworkx>=0.15.0 in /home/ubuntu/qgss-2025/.venv/lib/python3.12/site-packages (from qiskit~=2.1.0->qiskit[visualization]~=2.1.0) (0.16.0)\n",
      "Requirement already satisfied: scipy>=1.5 in /home/ubuntu/qgss-2025/.venv/lib/python3.12/site-packages (from qiskit~=2.1.0->qiskit[visualization]~=2.1.0) (1.16.0)\n",
      "Requirement already satisfied: dill>=0.3 in /home/ubuntu/qgss-2025/.venv/lib/python3.12/site-packages (from qiskit~=2.1.0->qiskit[visualization]~=2.1.0) (0.4.0)\n",
      "Requirement already satisfied: stevedore>=3.0.0 in /home/ubuntu/qgss-2025/.venv/lib/python3.12/site-packages (from qiskit~=2.1.0->qiskit[visualization]~=2.1.0) (5.4.1)\n",
      "Requirement already satisfied: typing-extensions in /home/ubuntu/qgss-2025/.venv/lib/python3.12/site-packages (from qiskit~=2.1.0->qiskit[visualization]~=2.1.0) (4.14.1)\n",
      "Requirement already satisfied: ray<3,>=2.30 in /home/ubuntu/qgss-2025/.venv/lib/python3.12/site-packages (from ray[default]<3,>=2.30->qiskit-serverless~=0.24.0) (2.47.1)\n",
      "Requirement already satisfied: importlib-metadata<9,>=5.2.0 in /home/ubuntu/qgss-2025/.venv/lib/python3.12/site-packages (from qiskit-serverless~=0.24.0) (8.4.0)\n",
      "Requirement already satisfied: qiskit-ibm-runtime<1,>=0.29.0 in /home/ubuntu/qgss-2025/.venv/lib/python3.12/site-packages (from qiskit-serverless~=0.24.0) (0.40.1)\n",
      "Requirement already satisfied: cloudpickle==2.2.1 in /home/ubuntu/qgss-2025/.venv/lib/python3.12/site-packages (from qiskit-serverless~=0.24.0) (2.2.1)\n",
      "Requirement already satisfied: tqdm<5,>=4.66.3 in /home/ubuntu/qgss-2025/.venv/lib/python3.12/site-packages (from qiskit-serverless~=0.24.0) (4.67.1)\n",
      "Requirement already satisfied: opentelemetry-api<1.33.1,>=1.18.0 in /home/ubuntu/qgss-2025/.venv/lib/python3.12/site-packages (from qiskit-serverless~=0.24.0) (1.33.0)\n",
      "Requirement already satisfied: opentelemetry-sdk<1.33.1,>=1.18.0 in /home/ubuntu/qgss-2025/.venv/lib/python3.12/site-packages (from qiskit-serverless~=0.24.0) (1.33.0)\n",
      "Requirement already satisfied: opentelemetry-exporter-otlp-proto-grpc<1.33.1,>=1.18.0 in /home/ubuntu/qgss-2025/.venv/lib/python3.12/site-packages (from qiskit-serverless~=0.24.0) (1.33.0)\n",
      "Requirement already satisfied: s3fs>=2023.6.0 in /home/ubuntu/qgss-2025/.venv/lib/python3.12/site-packages (from qiskit-serverless~=0.24.0) (2025.7.0)\n",
      "Requirement already satisfied: opentelemetry-instrumentation-requests>=0.40b0 in /home/ubuntu/qgss-2025/.venv/lib/python3.12/site-packages (from qiskit-serverless~=0.24.0) (0.54b0)\n",
      "Requirement already satisfied: ipywidgets<9,>=8.1.6 in /home/ubuntu/qgss-2025/.venv/lib/python3.12/site-packages (from qiskit-serverless~=0.24.0) (8.1.7)\n",
      "Requirement already satisfied: ipython<9,>=8.10.0 in /home/ubuntu/qgss-2025/.venv/lib/python3.12/site-packages (from qiskit-serverless~=0.24.0) (8.37.0)\n",
      "Requirement already satisfied: pyarrow<19,>=16.0.0 in /home/ubuntu/qgss-2025/.venv/lib/python3.12/site-packages (from qiskit-serverless~=0.24.0) (18.1.0)\n",
      "Requirement already satisfied: aiohttp<4,>=3.10.0 in /home/ubuntu/qgss-2025/.venv/lib/python3.12/site-packages (from qiskit-serverless~=0.24.0) (3.12.14)\n",
      "Requirement already satisfied: zipp==3.19.1 in /home/ubuntu/qgss-2025/.venv/lib/python3.12/site-packages (from qiskit-serverless~=0.24.0) (3.19.1)\n",
      "Requirement already satisfied: certifi==2024.7.4 in /home/ubuntu/qgss-2025/.venv/lib/python3.12/site-packages (from qiskit-serverless~=0.24.0) (2024.7.4)\n",
      "Requirement already satisfied: aiohappyeyeballs>=2.5.0 in /home/ubuntu/qgss-2025/.venv/lib/python3.12/site-packages (from aiohttp<4,>=3.10.0->qiskit-serverless~=0.24.0) (2.6.1)\n",
      "Requirement already satisfied: aiosignal>=1.4.0 in /home/ubuntu/qgss-2025/.venv/lib/python3.12/site-packages (from aiohttp<4,>=3.10.0->qiskit-serverless~=0.24.0) (1.4.0)\n",
      "Requirement already satisfied: attrs>=17.3.0 in /home/ubuntu/qgss-2025/.venv/lib/python3.12/site-packages (from aiohttp<4,>=3.10.0->qiskit-serverless~=0.24.0) (25.3.0)\n",
      "Requirement already satisfied: frozenlist>=1.1.1 in /home/ubuntu/qgss-2025/.venv/lib/python3.12/site-packages (from aiohttp<4,>=3.10.0->qiskit-serverless~=0.24.0) (1.7.0)\n",
      "Requirement already satisfied: multidict<7.0,>=4.5 in /home/ubuntu/qgss-2025/.venv/lib/python3.12/site-packages (from aiohttp<4,>=3.10.0->qiskit-serverless~=0.24.0) (6.6.3)\n",
      "Requirement already satisfied: propcache>=0.2.0 in /home/ubuntu/qgss-2025/.venv/lib/python3.12/site-packages (from aiohttp<4,>=3.10.0->qiskit-serverless~=0.24.0) (0.3.2)\n",
      "Requirement already satisfied: yarl<2.0,>=1.17.0 in /home/ubuntu/qgss-2025/.venv/lib/python3.12/site-packages (from aiohttp<4,>=3.10.0->qiskit-serverless~=0.24.0) (1.20.1)\n",
      "Requirement already satisfied: decorator in /home/ubuntu/qgss-2025/.venv/lib/python3.12/site-packages (from ipython<9,>=8.10.0->qiskit-serverless~=0.24.0) (5.2.1)\n",
      "Requirement already satisfied: jedi>=0.16 in /home/ubuntu/qgss-2025/.venv/lib/python3.12/site-packages (from ipython<9,>=8.10.0->qiskit-serverless~=0.24.0) (0.19.2)\n",
      "Requirement already satisfied: matplotlib-inline in /home/ubuntu/qgss-2025/.venv/lib/python3.12/site-packages (from ipython<9,>=8.10.0->qiskit-serverless~=0.24.0) (0.1.7)\n",
      "Requirement already satisfied: pexpect>4.3 in /home/ubuntu/qgss-2025/.venv/lib/python3.12/site-packages (from ipython<9,>=8.10.0->qiskit-serverless~=0.24.0) (4.9.0)\n",
      "Requirement already satisfied: prompt_toolkit<3.1.0,>=3.0.41 in /home/ubuntu/qgss-2025/.venv/lib/python3.12/site-packages (from ipython<9,>=8.10.0->qiskit-serverless~=0.24.0) (3.0.51)\n",
      "Requirement already satisfied: pygments>=2.4.0 in /home/ubuntu/qgss-2025/.venv/lib/python3.12/site-packages (from ipython<9,>=8.10.0->qiskit-serverless~=0.24.0) (2.19.2)\n",
      "Requirement already satisfied: stack_data in /home/ubuntu/qgss-2025/.venv/lib/python3.12/site-packages (from ipython<9,>=8.10.0->qiskit-serverless~=0.24.0) (0.6.3)\n",
      "Requirement already satisfied: traitlets>=5.13.0 in /home/ubuntu/qgss-2025/.venv/lib/python3.12/site-packages (from ipython<9,>=8.10.0->qiskit-serverless~=0.24.0) (5.14.3)\n",
      "Requirement already satisfied: comm>=0.1.3 in /home/ubuntu/qgss-2025/.venv/lib/python3.12/site-packages (from ipywidgets<9,>=8.1.6->qiskit-serverless~=0.24.0) (0.2.2)\n",
      "Requirement already satisfied: widgetsnbextension~=4.0.14 in /home/ubuntu/qgss-2025/.venv/lib/python3.12/site-packages (from ipywidgets<9,>=8.1.6->qiskit-serverless~=0.24.0) (4.0.14)\n",
      "Requirement already satisfied: jupyterlab_widgets~=3.0.15 in /home/ubuntu/qgss-2025/.venv/lib/python3.12/site-packages (from ipywidgets<9,>=8.1.6->qiskit-serverless~=0.24.0) (3.0.15)\n",
      "Requirement already satisfied: deprecated>=1.2.6 in /home/ubuntu/qgss-2025/.venv/lib/python3.12/site-packages (from opentelemetry-api<1.33.1,>=1.18.0->qiskit-serverless~=0.24.0) (1.2.18)\n",
      "Requirement already satisfied: googleapis-common-protos~=1.52 in /home/ubuntu/qgss-2025/.venv/lib/python3.12/site-packages (from opentelemetry-exporter-otlp-proto-grpc<1.33.1,>=1.18.0->qiskit-serverless~=0.24.0) (1.70.0)\n",
      "Requirement already satisfied: grpcio<2.0.0,>=1.63.2 in /home/ubuntu/qgss-2025/.venv/lib/python3.12/site-packages (from opentelemetry-exporter-otlp-proto-grpc<1.33.1,>=1.18.0->qiskit-serverless~=0.24.0) (1.73.1)\n",
      "Requirement already satisfied: opentelemetry-exporter-otlp-proto-common==1.33.0 in /home/ubuntu/qgss-2025/.venv/lib/python3.12/site-packages (from opentelemetry-exporter-otlp-proto-grpc<1.33.1,>=1.18.0->qiskit-serverless~=0.24.0) (1.33.0)\n",
      "Requirement already satisfied: opentelemetry-proto==1.33.0 in /home/ubuntu/qgss-2025/.venv/lib/python3.12/site-packages (from opentelemetry-exporter-otlp-proto-grpc<1.33.1,>=1.18.0->qiskit-serverless~=0.24.0) (1.33.0)\n",
      "Requirement already satisfied: opentelemetry-semantic-conventions==0.54b0 in /home/ubuntu/qgss-2025/.venv/lib/python3.12/site-packages (from opentelemetry-sdk<1.33.1,>=1.18.0->qiskit-serverless~=0.24.0) (0.54b0)\n",
      "Requirement already satisfied: wcwidth in /home/ubuntu/qgss-2025/.venv/lib/python3.12/site-packages (from prompt_toolkit<3.1.0,>=3.0.41->ipython<9,>=8.10.0->qiskit-serverless~=0.24.0) (0.2.13)\n",
      "Requirement already satisfied: requests-ntlm>=1.1.0 in /home/ubuntu/qgss-2025/.venv/lib/python3.12/site-packages (from qiskit-ibm-runtime<1,>=0.29.0->qiskit-serverless~=0.24.0) (1.3.0)\n",
      "Requirement already satisfied: urllib3>=1.21.1 in /home/ubuntu/qgss-2025/.venv/lib/python3.12/site-packages (from qiskit-ibm-runtime<1,>=0.29.0->qiskit-serverless~=0.24.0) (2.5.0)\n",
      "Requirement already satisfied: ibm-platform-services>=0.22.6 in /home/ubuntu/qgss-2025/.venv/lib/python3.12/site-packages (from qiskit-ibm-runtime<1,>=0.29.0->qiskit-serverless~=0.24.0) (0.66.1)\n",
      "Requirement already satisfied: pydantic>=2.5.0 in /home/ubuntu/qgss-2025/.venv/lib/python3.12/site-packages (from qiskit-ibm-runtime<1,>=0.29.0->qiskit-serverless~=0.24.0) (2.11.7)\n",
      "Requirement already satisfied: packaging in /home/ubuntu/qgss-2025/.venv/lib/python3.12/site-packages (from qiskit-ibm-runtime<1,>=0.29.0->qiskit-serverless~=0.24.0) (25.0)\n",
      "Requirement already satisfied: matplotlib>=3.3 in /home/ubuntu/qgss-2025/.venv/lib/python3.12/site-packages (from qiskit[visualization]~=2.1.0) (3.10.3)\n",
      "Requirement already satisfied: pydot in /home/ubuntu/qgss-2025/.venv/lib/python3.12/site-packages (from qiskit[visualization]~=2.1.0) (4.0.1)\n",
      "Requirement already satisfied: Pillow>=4.2.1 in /home/ubuntu/qgss-2025/.venv/lib/python3.12/site-packages (from qiskit[visualization]~=2.1.0) (11.3.0)\n",
      "Requirement already satisfied: pylatexenc>=1.4 in /home/ubuntu/qgss-2025/.venv/lib/python3.12/site-packages (from qiskit[visualization]~=2.1.0) (2.10)\n",
      "Requirement already satisfied: seaborn>=0.9.0 in /home/ubuntu/qgss-2025/.venv/lib/python3.12/site-packages (from qiskit[visualization]~=2.1.0) (0.13.2)\n",
      "Requirement already satisfied: sympy>=1.3 in /home/ubuntu/qgss-2025/.venv/lib/python3.12/site-packages (from qiskit[visualization]~=2.1.0) (1.14.0)\n",
      "Requirement already satisfied: click>=7.0 in /home/ubuntu/qgss-2025/.venv/lib/python3.12/site-packages (from ray<3,>=2.30->ray[default]<3,>=2.30->qiskit-serverless~=0.24.0) (8.2.1)\n",
      "Requirement already satisfied: filelock in /home/ubuntu/qgss-2025/.venv/lib/python3.12/site-packages (from ray<3,>=2.30->ray[default]<3,>=2.30->qiskit-serverless~=0.24.0) (3.18.0)\n",
      "Requirement already satisfied: jsonschema in /home/ubuntu/qgss-2025/.venv/lib/python3.12/site-packages (from ray<3,>=2.30->ray[default]<3,>=2.30->qiskit-serverless~=0.24.0) (4.24.0)\n",
      "Requirement already satisfied: msgpack<2.0.0,>=1.0.0 in /home/ubuntu/qgss-2025/.venv/lib/python3.12/site-packages (from ray<3,>=2.30->ray[default]<3,>=2.30->qiskit-serverless~=0.24.0) (1.1.1)\n",
      "Requirement already satisfied: pyyaml in /home/ubuntu/qgss-2025/.venv/lib/python3.12/site-packages (from ray<3,>=2.30->ray[default]<3,>=2.30->qiskit-serverless~=0.24.0) (6.0.2)\n",
      "Requirement already satisfied: aiohttp_cors in /home/ubuntu/qgss-2025/.venv/lib/python3.12/site-packages (from ray[default]<3,>=2.30->qiskit-serverless~=0.24.0) (0.8.1)\n",
      "Requirement already satisfied: colorful in /home/ubuntu/qgss-2025/.venv/lib/python3.12/site-packages (from ray[default]<3,>=2.30->qiskit-serverless~=0.24.0) (0.5.7)\n",
      "Requirement already satisfied: py-spy>=0.4.0 in /home/ubuntu/qgss-2025/.venv/lib/python3.12/site-packages (from ray[default]<3,>=2.30->qiskit-serverless~=0.24.0) (0.4.0)\n",
      "Requirement already satisfied: opencensus in /home/ubuntu/qgss-2025/.venv/lib/python3.12/site-packages (from ray[default]<3,>=2.30->qiskit-serverless~=0.24.0) (0.11.4)\n",
      "Requirement already satisfied: opentelemetry-exporter-prometheus in /home/ubuntu/qgss-2025/.venv/lib/python3.12/site-packages (from ray[default]<3,>=2.30->qiskit-serverless~=0.24.0) (0.54b0)\n",
      "Requirement already satisfied: prometheus_client>=0.7.1 in /home/ubuntu/qgss-2025/.venv/lib/python3.12/site-packages (from ray[default]<3,>=2.30->qiskit-serverless~=0.24.0) (0.22.1)\n",
      "Requirement already satisfied: smart_open in /home/ubuntu/qgss-2025/.venv/lib/python3.12/site-packages (from ray[default]<3,>=2.30->qiskit-serverless~=0.24.0) (7.3.0.post1)\n",
      "Requirement already satisfied: virtualenv!=20.21.1,>=20.0.24 in /home/ubuntu/qgss-2025/.venv/lib/python3.12/site-packages (from ray[default]<3,>=2.30->qiskit-serverless~=0.24.0) (20.31.2)\n",
      "Requirement already satisfied: annotated-types>=0.6.0 in /home/ubuntu/qgss-2025/.venv/lib/python3.12/site-packages (from pydantic>=2.5.0->qiskit-ibm-runtime<1,>=0.29.0->qiskit-serverless~=0.24.0) (0.7.0)\n",
      "Requirement already satisfied: pydantic-core==2.33.2 in /home/ubuntu/qgss-2025/.venv/lib/python3.12/site-packages (from pydantic>=2.5.0->qiskit-ibm-runtime<1,>=0.29.0->qiskit-serverless~=0.24.0) (2.33.2)\n",
      "Requirement already satisfied: typing-inspection>=0.4.0 in /home/ubuntu/qgss-2025/.venv/lib/python3.12/site-packages (from pydantic>=2.5.0->qiskit-ibm-runtime<1,>=0.29.0->qiskit-serverless~=0.24.0) (0.4.1)\n",
      "Requirement already satisfied: charset-normalizer<4,>=2 in /home/ubuntu/qgss-2025/.venv/lib/python3.12/site-packages (from requests>=2.31->yfinance==0.2.60) (3.4.2)\n",
      "Requirement already satisfied: idna<4,>=2.5 in /home/ubuntu/qgss-2025/.venv/lib/python3.12/site-packages (from requests>=2.31->yfinance==0.2.60) (3.10)\n",
      "Requirement already satisfied: soupsieve>1.2 in /home/ubuntu/qgss-2025/.venv/lib/python3.12/site-packages (from beautifulsoup4>=4.11.1->yfinance==0.2.60) (2.7)\n",
      "Requirement already satisfied: cffi>=1.12.0 in /home/ubuntu/qgss-2025/.venv/lib/python3.12/site-packages (from curl_cffi>=0.7->yfinance==0.2.60) (1.17.1)\n",
      "Requirement already satisfied: pycparser in /home/ubuntu/qgss-2025/.venv/lib/python3.12/site-packages (from cffi>=1.12.0->curl_cffi>=0.7->yfinance==0.2.60) (2.22)\n",
      "Requirement already satisfied: wrapt<2,>=1.10 in /home/ubuntu/qgss-2025/.venv/lib/python3.12/site-packages (from deprecated>=1.2.6->opentelemetry-api<1.33.1,>=1.18.0->qiskit-serverless~=0.24.0) (1.17.2)\n",
      "Requirement already satisfied: ibm_cloud_sdk_core<4.0.0,>=3.24.1 in /home/ubuntu/qgss-2025/.venv/lib/python3.12/site-packages (from ibm-platform-services>=0.22.6->qiskit-ibm-runtime<1,>=0.29.0->qiskit-serverless~=0.24.0) (3.24.1)\n",
      "Requirement already satisfied: PyJWT<3.0.0,>=2.8.0 in /home/ubuntu/qgss-2025/.venv/lib/python3.12/site-packages (from ibm_cloud_sdk_core<4.0.0,>=3.24.1->ibm-platform-services>=0.22.6->qiskit-ibm-runtime<1,>=0.29.0->qiskit-serverless~=0.24.0) (2.10.1)\n",
      "Requirement already satisfied: six>=1.5 in /home/ubuntu/qgss-2025/.venv/lib/python3.12/site-packages (from python-dateutil>=2.8.2->pandas==2.1.4) (1.17.0)\n",
      "Requirement already satisfied: parso<0.9.0,>=0.8.4 in /home/ubuntu/qgss-2025/.venv/lib/python3.12/site-packages (from jedi>=0.16->ipython<9,>=8.10.0->qiskit-serverless~=0.24.0) (0.8.4)\n",
      "Requirement already satisfied: contourpy>=1.0.1 in /home/ubuntu/qgss-2025/.venv/lib/python3.12/site-packages (from matplotlib>=3.3->qiskit[visualization]~=2.1.0) (1.3.2)\n",
      "Requirement already satisfied: cycler>=0.10 in /home/ubuntu/qgss-2025/.venv/lib/python3.12/site-packages (from matplotlib>=3.3->qiskit[visualization]~=2.1.0) (0.12.1)\n",
      "Requirement already satisfied: fonttools>=4.22.0 in /home/ubuntu/qgss-2025/.venv/lib/python3.12/site-packages (from matplotlib>=3.3->qiskit[visualization]~=2.1.0) (4.58.5)\n",
      "Requirement already satisfied: kiwisolver>=1.3.1 in /home/ubuntu/qgss-2025/.venv/lib/python3.12/site-packages (from matplotlib>=3.3->qiskit[visualization]~=2.1.0) (1.4.8)\n",
      "Requirement already satisfied: pyparsing>=2.3.1 in /home/ubuntu/qgss-2025/.venv/lib/python3.12/site-packages (from matplotlib>=3.3->qiskit[visualization]~=2.1.0) (3.2.3)\n",
      "Requirement already satisfied: opentelemetry-instrumentation==0.54b0 in /home/ubuntu/qgss-2025/.venv/lib/python3.12/site-packages (from opentelemetry-instrumentation-requests>=0.40b0->qiskit-serverless~=0.24.0) (0.54b0)\n",
      "Requirement already satisfied: opentelemetry-util-http==0.54b0 in /home/ubuntu/qgss-2025/.venv/lib/python3.12/site-packages (from opentelemetry-instrumentation-requests>=0.40b0->qiskit-serverless~=0.24.0) (0.54b0)\n",
      "Requirement already satisfied: ptyprocess>=0.5 in /home/ubuntu/qgss-2025/.venv/lib/python3.12/site-packages (from pexpect>4.3->ipython<9,>=8.10.0->qiskit-serverless~=0.24.0) (0.7.0)\n",
      "Requirement already satisfied: cryptography>=1.3 in /home/ubuntu/qgss-2025/.venv/lib/python3.12/site-packages (from requests-ntlm>=1.1.0->qiskit-ibm-runtime<1,>=0.29.0->qiskit-serverless~=0.24.0) (45.0.5)\n",
      "Requirement already satisfied: pyspnego>=0.4.0 in /home/ubuntu/qgss-2025/.venv/lib/python3.12/site-packages (from requests-ntlm>=1.1.0->qiskit-ibm-runtime<1,>=0.29.0->qiskit-serverless~=0.24.0) (0.11.2)\n",
      "Requirement already satisfied: aiobotocore<3.0.0,>=2.5.4 in /home/ubuntu/qgss-2025/.venv/lib/python3.12/site-packages (from s3fs>=2023.6.0->qiskit-serverless~=0.24.0) (2.23.0)\n",
      "Requirement already satisfied: fsspec==2025.7.0 in /home/ubuntu/qgss-2025/.venv/lib/python3.12/site-packages (from s3fs>=2023.6.0->qiskit-serverless~=0.24.0) (2025.7.0)\n",
      "Requirement already satisfied: aioitertools<1.0.0,>=0.5.1 in /home/ubuntu/qgss-2025/.venv/lib/python3.12/site-packages (from aiobotocore<3.0.0,>=2.5.4->s3fs>=2023.6.0->qiskit-serverless~=0.24.0) (0.12.0)\n",
      "Requirement already satisfied: botocore<1.38.28,>=1.38.23 in /home/ubuntu/qgss-2025/.venv/lib/python3.12/site-packages (from aiobotocore<3.0.0,>=2.5.4->s3fs>=2023.6.0->qiskit-serverless~=0.24.0) (1.38.27)\n",
      "Requirement already satisfied: jmespath<2.0.0,>=0.7.1 in /home/ubuntu/qgss-2025/.venv/lib/python3.12/site-packages (from aiobotocore<3.0.0,>=2.5.4->s3fs>=2023.6.0->qiskit-serverless~=0.24.0) (1.0.1)\n",
      "Requirement already satisfied: pbr>=2.0.0 in /home/ubuntu/qgss-2025/.venv/lib/python3.12/site-packages (from stevedore>=3.0.0->qiskit~=2.1.0->qiskit[visualization]~=2.1.0) (6.1.1)\n",
      "Requirement already satisfied: setuptools in /home/ubuntu/qgss-2025/.venv/lib/python3.12/site-packages (from pbr>=2.0.0->stevedore>=3.0.0->qiskit~=2.1.0->qiskit[visualization]~=2.1.0) (80.9.0)\n",
      "Requirement already satisfied: mpmath<1.4,>=1.1.0 in /home/ubuntu/qgss-2025/.venv/lib/python3.12/site-packages (from sympy>=1.3->qiskit[visualization]~=2.1.0) (1.3.0)\n",
      "Requirement already satisfied: distlib<1,>=0.3.7 in /home/ubuntu/qgss-2025/.venv/lib/python3.12/site-packages (from virtualenv!=20.21.1,>=20.0.24->ray[default]<3,>=2.30->qiskit-serverless~=0.24.0) (0.3.9)\n",
      "Requirement already satisfied: jsonschema-specifications>=2023.03.6 in /home/ubuntu/qgss-2025/.venv/lib/python3.12/site-packages (from jsonschema->ray<3,>=2.30->ray[default]<3,>=2.30->qiskit-serverless~=0.24.0) (2025.4.1)\n",
      "Requirement already satisfied: referencing>=0.28.4 in /home/ubuntu/qgss-2025/.venv/lib/python3.12/site-packages (from jsonschema->ray<3,>=2.30->ray[default]<3,>=2.30->qiskit-serverless~=0.24.0) (0.36.2)\n",
      "Requirement already satisfied: rpds-py>=0.7.1 in /home/ubuntu/qgss-2025/.venv/lib/python3.12/site-packages (from jsonschema->ray<3,>=2.30->ray[default]<3,>=2.30->qiskit-serverless~=0.24.0) (0.26.0)\n",
      "Requirement already satisfied: opencensus-context>=0.1.3 in /home/ubuntu/qgss-2025/.venv/lib/python3.12/site-packages (from opencensus->ray[default]<3,>=2.30->qiskit-serverless~=0.24.0) (0.1.3)\n",
      "Requirement already satisfied: google-api-core<3.0.0,>=1.0.0 in /home/ubuntu/qgss-2025/.venv/lib/python3.12/site-packages (from opencensus->ray[default]<3,>=2.30->qiskit-serverless~=0.24.0) (2.25.1)\n",
      "Requirement already satisfied: proto-plus<2.0.0,>=1.22.3 in /home/ubuntu/qgss-2025/.venv/lib/python3.12/site-packages (from google-api-core<3.0.0,>=1.0.0->opencensus->ray[default]<3,>=2.30->qiskit-serverless~=0.24.0) (1.26.1)\n",
      "Requirement already satisfied: google-auth<3.0.0,>=2.14.1 in /home/ubuntu/qgss-2025/.venv/lib/python3.12/site-packages (from google-api-core<3.0.0,>=1.0.0->opencensus->ray[default]<3,>=2.30->qiskit-serverless~=0.24.0) (2.40.3)\n",
      "Requirement already satisfied: cachetools<6.0,>=2.0.0 in /home/ubuntu/qgss-2025/.venv/lib/python3.12/site-packages (from google-auth<3.0.0,>=2.14.1->google-api-core<3.0.0,>=1.0.0->opencensus->ray[default]<3,>=2.30->qiskit-serverless~=0.24.0) (5.5.2)\n",
      "Requirement already satisfied: pyasn1-modules>=0.2.1 in /home/ubuntu/qgss-2025/.venv/lib/python3.12/site-packages (from google-auth<3.0.0,>=2.14.1->google-api-core<3.0.0,>=1.0.0->opencensus->ray[default]<3,>=2.30->qiskit-serverless~=0.24.0) (0.4.2)\n",
      "Requirement already satisfied: rsa<5,>=3.1.4 in /home/ubuntu/qgss-2025/.venv/lib/python3.12/site-packages (from google-auth<3.0.0,>=2.14.1->google-api-core<3.0.0,>=1.0.0->opencensus->ray[default]<3,>=2.30->qiskit-serverless~=0.24.0) (4.9.1)\n",
      "Requirement already satisfied: pyasn1>=0.1.3 in /home/ubuntu/qgss-2025/.venv/lib/python3.12/site-packages (from rsa<5,>=3.1.4->google-auth<3.0.0,>=2.14.1->google-api-core<3.0.0,>=1.0.0->opencensus->ray[default]<3,>=2.30->qiskit-serverless~=0.24.0) (0.6.1)\n",
      "Requirement already satisfied: executing>=1.2.0 in /home/ubuntu/qgss-2025/.venv/lib/python3.12/site-packages (from stack_data->ipython<9,>=8.10.0->qiskit-serverless~=0.24.0) (2.2.0)\n",
      "Requirement already satisfied: asttokens>=2.1.0 in /home/ubuntu/qgss-2025/.venv/lib/python3.12/site-packages (from stack_data->ipython<9,>=8.10.0->qiskit-serverless~=0.24.0) (3.0.0)\n",
      "Requirement already satisfied: pure-eval in /home/ubuntu/qgss-2025/.venv/lib/python3.12/site-packages (from stack_data->ipython<9,>=8.10.0->qiskit-serverless~=0.24.0) (0.2.3)\n",
      "Downloading yfinance-0.2.60-py2.py3-none-any.whl (117 kB)\n",
      "Downloading pandas-2.1.4-cp312-cp312-manylinux_2_17_x86_64.manylinux2014_x86_64.whl (11.7 MB)\n",
      "\u001b[2K   \u001b[90m━━━━━━━━━━━━━━━━━━━━━━━━━━━━━━━━━━━━━━━━\u001b[0m \u001b[32m11.7/11.7 MB\u001b[0m \u001b[31m127.4 MB/s\u001b[0m eta \u001b[36m0:00:00\u001b[0m\n",
      "\u001b[?25hDownloading qiskit_serverless-0.24.0-py3-none-any.whl (54 kB)\n",
      "Downloading qiskit_ibm_catalog-0.8.0-py3-none-any.whl (19 kB)\n",
      "Downloading numpy-1.26.4-cp312-cp312-manylinux_2_17_x86_64.manylinux2014_x86_64.whl (18.0 MB)\n",
      "\u001b[2K   \u001b[90m━━━━━━━━━━━━━━━━━━━━━━━━━━━━━━━━━━━━━━━━\u001b[0m \u001b[32m18.0/18.0 MB\u001b[0m \u001b[31m217.4 MB/s\u001b[0m eta \u001b[36m0:00:00\u001b[0m\n",
      "\u001b[?25hDownloading curl_cffi-0.12.0-cp39-abi3-manylinux_2_17_x86_64.manylinux2014_x86_64.whl (8.3 MB)\n",
      "\u001b[2K   \u001b[90m━━━━━━━━━━━━━━━━━━━━━━━━━━━━━━━━━━━━━━━━\u001b[0m \u001b[32m8.3/8.3 MB\u001b[0m \u001b[31m201.6 MB/s\u001b[0m eta \u001b[36m0:00:00\u001b[0m\n",
      "\u001b[?25hDownloading frozendict-2.4.6-py312-none-any.whl (16 kB)\n",
      "Downloading multitasking-0.0.11-py3-none-any.whl (8.5 kB)\n",
      "Downloading websockets-15.0.1-cp312-cp312-manylinux_2_5_x86_64.manylinux1_x86_64.manylinux_2_17_x86_64.manylinux2014_x86_64.whl (182 kB)\n",
      "Building wheels for collected packages: peewee\n",
      "  Building wheel for peewee (pyproject.toml) ... \u001b[?25ldone\n",
      "\u001b[?25h  Created wheel for peewee: filename=peewee-3.18.2-py3-none-any.whl size=139106 sha256=1d702d909b3439e20934fb25d24ff66cbf8925fc1a91b7d5cb3a763e888bb2b1\n",
      "  Stored in directory: /home/ubuntu/.cache/pip/wheels/d1/df/a9/0202b051c65b11c992dd6db9f2babdd2c44ec7d35d511be5d3\n",
      "Successfully built peewee\n",
      "Installing collected packages: peewee, multitasking, websockets, numpy, frozendict, pandas, curl_cffi, yfinance, qiskit-serverless, qiskit-ibm-catalog\n",
      "\u001b[2K  Attempting uninstall: numpy━━━━━━━━━━━━━━━━━━━\u001b[0m \u001b[32m 0/10\u001b[0m [peewee]\n",
      "\u001b[2K    Found existing installation: numpy 2.3.1\u001b[0m \u001b[32m 0/10\u001b[0m [peewee]\n",
      "\u001b[2K    Uninstalling numpy-2.3.1:╺\u001b[0m\u001b[90m━━━━━━━━━━━━━━━━━━━━━━━━━━━\u001b[0m \u001b[32m 3/10\u001b[0m [numpy]\n",
      "\u001b[2K      Successfully uninstalled numpy-2.3.1━━━━━━━━━━━━━━━━━━━━\u001b[0m \u001b[32m 3/10\u001b[0m [numpy]\n",
      "\u001b[2K  Attempting uninstall: pandas\u001b[0m\u001b[90m━━━━━━━━━━━━━━━━━━━━━━━━━━━\u001b[0m \u001b[32m 3/10\u001b[0m [numpy]\n",
      "\u001b[2K    Found existing installation: pandas 2.3.1━━━━━━━━━━━━━━━━━\u001b[0m \u001b[32m 3/10\u001b[0m [numpy]\n",
      "\u001b[2K    Uninstalling pandas-2.3.1:0m\u001b[90m╺\u001b[0m\u001b[90m━━━━━━━━━━━━━━━━━━━\u001b[0m \u001b[32m 5/10\u001b[0m [pandas]\n",
      "\u001b[2K      Successfully uninstalled pandas-2.3.1[90m━━━━━━━━━━━━━━━━━━━\u001b[0m \u001b[32m 5/10\u001b[0m [pandas]\n",
      "\u001b[2K  Attempting uninstall: qiskit-serverless[90m╺\u001b[0m\u001b[90m━━━━━━━━━━━\u001b[0m \u001b[32m 7/10\u001b[0m [yfinance]]\n",
      "\u001b[2K    Found existing installation: qiskit-serverless 0.25.1━━━━━\u001b[0m \u001b[32m 7/10\u001b[0m [yfinance]\n",
      "\u001b[2K    Uninstalling qiskit-serverless-0.25.1:\u001b[0m\u001b[90m━━━━━━━━━━━\u001b[0m \u001b[32m 7/10\u001b[0m [yfinance]\n",
      "\u001b[2K      Successfully uninstalled qiskit-serverless-0.25.1━━━━━━━\u001b[0m \u001b[32m 7/10\u001b[0m [yfinance]\n",
      "\u001b[2K   \u001b[90m━━━━━━━━━━━━━━━━━━━━━━━━━━━━━━━━━━━━━━━━\u001b[0m \u001b[32m10/10\u001b[0m [qiskit-ibm-catalog]iskit-serverless]\n",
      "\u001b[1A\u001b[2KSuccessfully installed curl_cffi-0.12.0 frozendict-2.4.6 multitasking-0.0.11 numpy-1.26.4 pandas-2.1.4 peewee-3.18.2 qiskit-ibm-catalog-0.8.0 qiskit-serverless-0.24.0 websockets-15.0.1 yfinance-0.2.60\n",
      "Note: you may need to restart the kernel to use updated packages.\n"
     ]
    }
   ],
   "source": [
    "# Install dependencies\n",
    "%pip install \"qc-grader[qiskit,jupyter] @ git+https://github.com/qiskit-community/Quantum-Challenge-Grader.git\"\n",
    "%pip install \"qiskit[visualization]\"~=2.1.0 qiskit-serverless~=0.24.0 qiskit-ibm-catalog~=0.8.0 yfinance==0.2.60 pandas==2.1.4"
   ]
  },
  {
   "cell_type": "code",
   "execution_count": 2,
   "metadata": {},
   "outputs": [
    {
     "name": "stdout",
     "output_type": "stream",
     "text": [
      "Grader version: 0.22.12\n"
     ]
    }
   ],
   "source": [
    "import qc_grader\n",
    "\n",
    "print(f\"Grader version: {qc_grader.__version__}\")"
   ]
  },
  {
   "cell_type": "markdown",
   "metadata": {},
   "source": [
    "You should have Grader `>=0.22.11`. If you see a lower version, you need to restart your kernel and reinstall the grader."
   ]
  },
  {
   "cell_type": "code",
   "execution_count": 3,
   "metadata": {},
   "outputs": [],
   "source": [
    "# Imports\n",
    "import yfinance as yf\n",
    "import pandas as pd\n",
    "from qiskit_ibm_catalog import QiskitFunctionsCatalog\n",
    "from grader import grade_ex1a, grade_ex1b, grade_ex2\n",
    "from qc_grader.challenges.qgss_2025 import grade_gdq_function"
   ]
  },
  {
   "cell_type": "markdown",
   "metadata": {},
   "source": [
    "<div class=\"alert alert-block alert-warning\">\n",
    "\n",
    "**Exclusive Access to Qiskit Functions**\n",
    "\n",
    "As part of Qiskit Global Summer School (QGSS), participants with a Premium or Flex Plan have limited-time trial access to Qiskit Functions. Access is exclusive and subject to your organization’s administrator approval. Complete [this form](https://airtable.com/appj8IrSNZGz4l4BB/pag8WgWdUr5uSJGZA/form) to request access.\n",
    "\n",
    "If you encounter the error `QiskitServerlessException: Credentials couldn't be verified`. in the cell below, it means your access to Qiskit Functions is not yet active. Please check back later after your request has been processed.\n",
    "\n",
    "**Note: Running this lab will consume QPU time from your organization’s account. Estimated QPU usage is provided before each cell that executes on a QPU. Please monitor your usage and consult your organization admin if you’re unsure about your allocated QPU time for QGSS Functions labs.**\n",
    "\n",
    "</div>"
   ]
  },
  {
   "cell_type": "code",
   "execution_count": 4,
   "metadata": {},
   "outputs": [
    {
     "ename": "QiskitServerlessException",
     "evalue": "Credentials couldn't be verified.",
     "output_type": "error",
     "traceback": [
      "\u001b[0;31m---------------------------------------------------------------------------\u001b[0m",
      "\u001b[0;31mQiskitServerlessException\u001b[0m                 Traceback (most recent call last)",
      "File \u001b[0;32m~/qgss-2025/.venv/lib/python3.12/site-packages/qiskit_serverless/core/clients/serverless_client.py:168\u001b[0m, in \u001b[0;36mServerlessClient._verify_credentials\u001b[0;34m(self)\u001b[0m\n\u001b[1;32m    167\u001b[0m \u001b[38;5;28;01mtry\u001b[39;00m:\n\u001b[0;32m--> 168\u001b[0m     \u001b[43msafe_json_request\u001b[49m\u001b[43m(\u001b[49m\n\u001b[1;32m    169\u001b[0m \u001b[43m        \u001b[49m\u001b[43mrequest\u001b[49m\u001b[38;5;241;43m=\u001b[39;49m\u001b[38;5;28;43;01mlambda\u001b[39;49;00m\u001b[43m:\u001b[49m\u001b[43m \u001b[49m\u001b[43mrequests\u001b[49m\u001b[38;5;241;43m.\u001b[39;49m\u001b[43mget\u001b[49m\u001b[43m(\u001b[49m\n\u001b[1;32m    170\u001b[0m \u001b[43m            \u001b[49m\u001b[43murl\u001b[49m\u001b[38;5;241;43m=\u001b[39;49m\u001b[38;5;124;43mf\u001b[39;49m\u001b[38;5;124;43m\"\u001b[39;49m\u001b[38;5;132;43;01m{\u001b[39;49;00m\u001b[38;5;28;43mself\u001b[39;49m\u001b[38;5;241;43m.\u001b[39;49m\u001b[43mhost\u001b[49m\u001b[38;5;132;43;01m}\u001b[39;49;00m\u001b[38;5;124;43m/api/v1/programs/\u001b[39;49m\u001b[38;5;124;43m\"\u001b[39;49m\u001b[43m,\u001b[49m\n\u001b[1;32m    171\u001b[0m \u001b[43m            \u001b[49m\u001b[43mheaders\u001b[49m\u001b[38;5;241;43m=\u001b[39;49m\u001b[43mget_headers\u001b[49m\u001b[43m(\u001b[49m\u001b[43mtoken\u001b[49m\u001b[38;5;241;43m=\u001b[39;49m\u001b[38;5;28;43mself\u001b[39;49m\u001b[38;5;241;43m.\u001b[39;49m\u001b[43mtoken\u001b[49m\u001b[43m,\u001b[49m\u001b[43m \u001b[49m\u001b[43minstance\u001b[49m\u001b[38;5;241;43m=\u001b[39;49m\u001b[38;5;28;43mself\u001b[39;49m\u001b[38;5;241;43m.\u001b[39;49m\u001b[43minstance\u001b[49m\u001b[43m)\u001b[49m\u001b[43m,\u001b[49m\n\u001b[1;32m    172\u001b[0m \u001b[43m            \u001b[49m\u001b[43mtimeout\u001b[49m\u001b[38;5;241;43m=\u001b[39;49m\u001b[43mREQUESTS_TIMEOUT\u001b[49m\u001b[43m,\u001b[49m\n\u001b[1;32m    173\u001b[0m \u001b[43m        \u001b[49m\u001b[43m)\u001b[49m\n\u001b[1;32m    174\u001b[0m \u001b[43m    \u001b[49m\u001b[43m)\u001b[49m\n\u001b[1;32m    175\u001b[0m \u001b[38;5;28;01mexcept\u001b[39;00m QiskitServerlessException \u001b[38;5;28;01mas\u001b[39;00m reason:\n",
      "File \u001b[0;32m~/qgss-2025/.venv/lib/python3.12/site-packages/qiskit_serverless/utils/json.py:143\u001b[0m, in \u001b[0;36msafe_json_request\u001b[0;34m(request)\u001b[0m\n\u001b[1;32m    142\u001b[0m \u001b[38;5;28;01mif\u001b[39;00m response \u001b[38;5;129;01mis\u001b[39;00m \u001b[38;5;129;01mnot\u001b[39;00m \u001b[38;5;28;01mNone\u001b[39;00m \u001b[38;5;129;01mand\u001b[39;00m \u001b[38;5;129;01mnot\u001b[39;00m response\u001b[38;5;241m.\u001b[39mok:\n\u001b[0;32m--> 143\u001b[0m     \u001b[38;5;28;01mraise\u001b[39;00m QiskitServerlessException(\n\u001b[1;32m    144\u001b[0m         format_err_msg(\n\u001b[1;32m    145\u001b[0m             response\u001b[38;5;241m.\u001b[39mstatus_code,\n\u001b[1;32m    146\u001b[0m             \u001b[38;5;28mstr\u001b[39m(response\u001b[38;5;241m.\u001b[39mtext),\n\u001b[1;32m    147\u001b[0m         )\n\u001b[1;32m    148\u001b[0m     )\n\u001b[1;32m    150\u001b[0m decoding_error_message: Optional[\u001b[38;5;28mstr\u001b[39m] \u001b[38;5;241m=\u001b[39m \u001b[38;5;28;01mNone\u001b[39;00m\n",
      "\u001b[0;31mQiskitServerlessException\u001b[0m: \n| Message: Http bad request.\n| Code: 401\n| Details:\n|   - detail: S",
      "\nThe above exception was the direct cause of the following exception:\n",
      "\u001b[0;31mQiskitServerlessException\u001b[0m                 Traceback (most recent call last)",
      "Cell \u001b[0;32mIn[4], line 5\u001b[0m\n\u001b[1;32m      2\u001b[0m your_api_key \u001b[38;5;241m=\u001b[39m \u001b[38;5;124m\"\u001b[39m\u001b[38;5;124mBjBs7nYH93BjVzkDDdKzA5OFi21tUwJ_jKrLW4EO00OQ\u001b[39m\u001b[38;5;124m\"\u001b[39m\n\u001b[1;32m      3\u001b[0m your_crn \u001b[38;5;241m=\u001b[39m \u001b[38;5;124m\"\u001b[39m\u001b[38;5;124mcrn:v1:bluemix:public:quantum-computing:us-east:a/e8e5126d55822b481245c35d4663ef33:19bb24eb-cf23-4537-b073-88bf30712690::\u001b[39m\u001b[38;5;124m\"\u001b[39m\n\u001b[0;32m----> 5\u001b[0m catalog \u001b[38;5;241m=\u001b[39m \u001b[43mQiskitFunctionsCatalog\u001b[49m\u001b[43m(\u001b[49m\n\u001b[1;32m      6\u001b[0m \u001b[43m    \u001b[49m\u001b[43mchannel\u001b[49m\u001b[38;5;241;43m=\u001b[39;49m\u001b[38;5;124;43m\"\u001b[39;49m\u001b[38;5;124;43mibm_quantum_platform\u001b[39;49m\u001b[38;5;124;43m\"\u001b[39;49m\u001b[43m,\u001b[49m\n\u001b[1;32m      7\u001b[0m \u001b[43m    \u001b[49m\u001b[43mtoken\u001b[49m\u001b[38;5;241;43m=\u001b[39;49m\u001b[43myour_api_key\u001b[49m\u001b[43m,\u001b[49m\n\u001b[1;32m      8\u001b[0m \u001b[43m    \u001b[49m\u001b[43minstance\u001b[49m\u001b[38;5;241;43m=\u001b[39;49m\u001b[43myour_crn\u001b[49m\u001b[43m,\u001b[49m\n\u001b[1;32m      9\u001b[0m \u001b[43m)\u001b[49m\n\u001b[1;32m     10\u001b[0m \u001b[38;5;66;03m# You should see a list of Qiskit Functions available to you\u001b[39;00m\n\u001b[1;32m     11\u001b[0m \u001b[38;5;66;03m# If you encounter the error `QiskitServerlessException: Credentials couldn't be verified`,\u001b[39;00m\n\u001b[1;32m     12\u001b[0m \u001b[38;5;66;03m# it means your access is not yet active\u001b[39;00m\n\u001b[1;32m     13\u001b[0m catalog\u001b[38;5;241m.\u001b[39mlist()\n",
      "File \u001b[0;32m~/qgss-2025/.venv/lib/python3.12/site-packages/qiskit_ibm_catalog/catalog.py:80\u001b[0m, in \u001b[0;36mQiskitFunctionsCatalog.__init__\u001b[0;34m(self, token, channel, instance, name)\u001b[0m\n\u001b[1;32m     58\u001b[0m \u001b[38;5;28;01mdef\u001b[39;00m\u001b[38;5;250m \u001b[39m\u001b[38;5;21m__init__\u001b[39m(\n\u001b[1;32m     59\u001b[0m     \u001b[38;5;28mself\u001b[39m,\n\u001b[1;32m     60\u001b[0m     token: Optional[\u001b[38;5;28mstr\u001b[39m] \u001b[38;5;241m=\u001b[39m \u001b[38;5;28;01mNone\u001b[39;00m,\n\u001b[0;32m   (...)\u001b[0m\n\u001b[1;32m     63\u001b[0m     name: Optional[\u001b[38;5;28mstr\u001b[39m] \u001b[38;5;241m=\u001b[39m \u001b[38;5;28;01mNone\u001b[39;00m,\n\u001b[1;32m     64\u001b[0m ) \u001b[38;5;241m-\u001b[39m\u001b[38;5;241m>\u001b[39m \u001b[38;5;28;01mNone\u001b[39;00m:\n\u001b[1;32m     65\u001b[0m \u001b[38;5;250m    \u001b[39m\u001b[38;5;124;03m\"\"\"\u001b[39;00m\n\u001b[1;32m     66\u001b[0m \u001b[38;5;124;03m    Initialize qiskit functions catalog.\u001b[39;00m\n\u001b[1;32m     67\u001b[0m \n\u001b[0;32m   (...)\u001b[0m\n\u001b[1;32m     78\u001b[0m \u001b[38;5;124;03m        name: Name of the account to load\u001b[39;00m\n\u001b[1;32m     79\u001b[0m \u001b[38;5;124;03m    \"\"\"\u001b[39;00m\n\u001b[0;32m---> 80\u001b[0m     \u001b[38;5;28mself\u001b[39m\u001b[38;5;241m.\u001b[39m_client \u001b[38;5;241m=\u001b[39m \u001b[43mIBMServerlessClient\u001b[49m\u001b[43m(\u001b[49m\n\u001b[1;32m     81\u001b[0m \u001b[43m        \u001b[49m\u001b[43mchannel\u001b[49m\u001b[38;5;241;43m=\u001b[39;49m\u001b[43mchannel\u001b[49m\u001b[43m,\u001b[49m\u001b[43m \u001b[49m\u001b[43mtoken\u001b[49m\u001b[38;5;241;43m=\u001b[39;49m\u001b[43mtoken\u001b[49m\u001b[43m,\u001b[49m\u001b[43m \u001b[49m\u001b[43minstance\u001b[49m\u001b[38;5;241;43m=\u001b[39;49m\u001b[43minstance\u001b[49m\u001b[43m,\u001b[49m\u001b[43m \u001b[49m\u001b[43mname\u001b[49m\u001b[38;5;241;43m=\u001b[39;49m\u001b[43mname\u001b[49m\n\u001b[1;32m     82\u001b[0m \u001b[43m    \u001b[49m\u001b[43m)\u001b[49m\n",
      "File \u001b[0;32m~/qgss-2025/.venv/lib/python3.12/site-packages/qiskit_serverless/core/clients/serverless_client.py:598\u001b[0m, in \u001b[0;36mIBMServerlessClient.__init__\u001b[0;34m(self, token, name, instance, channel)\u001b[0m\n\u001b[1;32m    593\u001b[0m \u001b[38;5;28;01mif\u001b[39;00m channel_enum \u001b[38;5;129;01mis\u001b[39;00m \u001b[38;5;129;01mnot\u001b[39;00m Channel\u001b[38;5;241m.\u001b[39mIBM_QUANTUM:\n\u001b[1;32m    594\u001b[0m     instance \u001b[38;5;241m=\u001b[39m instance \u001b[38;5;129;01mor\u001b[39;00m QiskitRuntimeService(name\u001b[38;5;241m=\u001b[39mname)\u001b[38;5;241m.\u001b[39mactive_account()\u001b[38;5;241m.\u001b[39mget(\n\u001b[1;32m    595\u001b[0m         \u001b[38;5;124m\"\u001b[39m\u001b[38;5;124minstance\u001b[39m\u001b[38;5;124m\"\u001b[39m\n\u001b[1;32m    596\u001b[0m     )\n\u001b[0;32m--> 598\u001b[0m \u001b[38;5;28;43msuper\u001b[39;49m\u001b[43m(\u001b[49m\u001b[43m)\u001b[49m\u001b[38;5;241;43m.\u001b[39;49m\u001b[38;5;21;43m__init__\u001b[39;49m\u001b[43m(\u001b[49m\n\u001b[1;32m    599\u001b[0m \u001b[43m    \u001b[49m\u001b[43mchannel\u001b[49m\u001b[38;5;241;43m=\u001b[39;49m\u001b[43mchannel\u001b[49m\u001b[43m,\u001b[49m\n\u001b[1;32m    600\u001b[0m \u001b[43m    \u001b[49m\u001b[43mtoken\u001b[49m\u001b[38;5;241;43m=\u001b[39;49m\u001b[43mtoken\u001b[49m\u001b[43m,\u001b[49m\n\u001b[1;32m    601\u001b[0m \u001b[43m    \u001b[49m\u001b[43minstance\u001b[49m\u001b[38;5;241;43m=\u001b[39;49m\u001b[43minstance\u001b[49m\u001b[43m,\u001b[49m\n\u001b[1;32m    602\u001b[0m \u001b[43m    \u001b[49m\u001b[43mhost\u001b[49m\u001b[38;5;241;43m=\u001b[39;49m\u001b[43mIBM_SERVERLESS_HOST_URL\u001b[49m\u001b[43m,\u001b[49m\n\u001b[1;32m    603\u001b[0m \u001b[43m\u001b[49m\u001b[43m)\u001b[49m\n",
      "File \u001b[0;32m~/qgss-2025/.venv/lib/python3.12/site-packages/qiskit_serverless/core/clients/serverless_client.py:155\u001b[0m, in \u001b[0;36mServerlessClient.__init__\u001b[0;34m(self, name, host, version, token, instance, channel)\u001b[0m\n\u001b[1;32m    153\u001b[0m \u001b[38;5;28msuper\u001b[39m()\u001b[38;5;241m.\u001b[39m\u001b[38;5;21m__init__\u001b[39m(name, host, token, instance)\n\u001b[1;32m    154\u001b[0m \u001b[38;5;28mself\u001b[39m\u001b[38;5;241m.\u001b[39mversion \u001b[38;5;241m=\u001b[39m version\n\u001b[0;32m--> 155\u001b[0m \u001b[38;5;28;43mself\u001b[39;49m\u001b[38;5;241;43m.\u001b[39;49m\u001b[43m_verify_credentials\u001b[49m\u001b[43m(\u001b[49m\u001b[43m)\u001b[49m\n\u001b[1;32m    157\u001b[0m \u001b[38;5;28mself\u001b[39m\u001b[38;5;241m.\u001b[39m_files_client \u001b[38;5;241m=\u001b[39m GatewayFilesClient(\n\u001b[1;32m    158\u001b[0m     \u001b[38;5;28mself\u001b[39m\u001b[38;5;241m.\u001b[39mhost, \u001b[38;5;28mself\u001b[39m\u001b[38;5;241m.\u001b[39mtoken, \u001b[38;5;28mself\u001b[39m\u001b[38;5;241m.\u001b[39mversion, \u001b[38;5;28mself\u001b[39m\u001b[38;5;241m.\u001b[39minstance\n\u001b[1;32m    159\u001b[0m )\n",
      "File \u001b[0;32m~/qgss-2025/.venv/lib/python3.12/site-packages/qiskit_serverless/core/clients/serverless_client.py:176\u001b[0m, in \u001b[0;36mServerlessClient._verify_credentials\u001b[0;34m(self)\u001b[0m\n\u001b[1;32m    168\u001b[0m     safe_json_request(\n\u001b[1;32m    169\u001b[0m         request\u001b[38;5;241m=\u001b[39m\u001b[38;5;28;01mlambda\u001b[39;00m: requests\u001b[38;5;241m.\u001b[39mget(\n\u001b[1;32m    170\u001b[0m             url\u001b[38;5;241m=\u001b[39m\u001b[38;5;124mf\u001b[39m\u001b[38;5;124m\"\u001b[39m\u001b[38;5;132;01m{\u001b[39;00m\u001b[38;5;28mself\u001b[39m\u001b[38;5;241m.\u001b[39mhost\u001b[38;5;132;01m}\u001b[39;00m\u001b[38;5;124m/api/v1/programs/\u001b[39m\u001b[38;5;124m\"\u001b[39m,\n\u001b[0;32m   (...)\u001b[0m\n\u001b[1;32m    173\u001b[0m         )\n\u001b[1;32m    174\u001b[0m     )\n\u001b[1;32m    175\u001b[0m \u001b[38;5;28;01mexcept\u001b[39;00m QiskitServerlessException \u001b[38;5;28;01mas\u001b[39;00m reason:\n\u001b[0;32m--> 176\u001b[0m     \u001b[38;5;28;01mraise\u001b[39;00m QiskitServerlessException(\n\u001b[1;32m    177\u001b[0m         \u001b[38;5;124m\"\u001b[39m\u001b[38;5;124mCredentials couldn\u001b[39m\u001b[38;5;124m'\u001b[39m\u001b[38;5;124mt be verified.\u001b[39m\u001b[38;5;124m\"\u001b[39m\n\u001b[1;32m    178\u001b[0m     ) \u001b[38;5;28;01mfrom\u001b[39;00m\u001b[38;5;250m \u001b[39m\u001b[38;5;21;01mreason\u001b[39;00m\n",
      "\u001b[0;31mQiskitServerlessException\u001b[0m: Credentials couldn't be verified."
     ]
    }
   ],
   "source": [
    "# Load the Qiskit Functions Catalog\n",
    "your_api_key = \"BjBs7nYH93BjVzkDDdKzA5OFi21tUwJ_jKrLW4EO00OQ\"\n",
    "your_crn = \"crn:v1:bluemix:public:quantum-computing:us-east:a/e8e5126d55822b481245c35d4663ef33:19bb24eb-cf23-4537-b073-88bf30712690::\"\n",
    "\n",
    "catalog = QiskitFunctionsCatalog(\n",
    "    channel=\"ibm_quantum_platform\",\n",
    "    token=your_api_key,\n",
    "    instance=your_crn,\n",
    ")\n",
    "# You should see a list of Qiskit Functions available to you\n",
    "# If you encounter the error `QiskitServerlessException: Credentials couldn't be verified`,\n",
    "# it means your access is not yet active\n",
    "catalog.list()"
   ]
  },
  {
   "cell_type": "markdown",
   "metadata": {},
   "source": [
    "<div class=\"alert alert-block alert-success\">\n",
    "    \n",
    "<b> Load Qiskit Function</b>\n",
    "\n",
    "Find the correct function name from the list above, or refer to the [Qiskit Functions Catalog](https://quantum.cloud.ibm.com/functions) to locate the appropriate function name string. The name should follow the format: `\"[provider]/[title]\"`.\n",
    "\n",
    "</div>"
   ]
  },
  {
   "cell_type": "code",
   "execution_count": null,
   "metadata": {},
   "outputs": [],
   "source": [
    "# Load Global Data Quantum Quantum Portfolio Optimizer function\n",
    "\n",
    "function_name = \"\"  # TODO\n",
    "dpo_solver = catalog.load(function_name)"
   ]
  },
  {
   "cell_type": "code",
   "execution_count": null,
   "metadata": {},
   "outputs": [],
   "source": [
    "grade_gdq_function(dpo_solver)"
   ]
  },
  {
   "cell_type": "markdown",
   "metadata": {},
   "source": [
    "## Function Description"
   ]
  },
  {
   "cell_type": "markdown",
   "metadata": {},
   "source": [
    "The dynamic portfolio optimization problem involves determining the optimal investment strategy over multiple time periods in order to maximize the expected return of the portfolio and minimize risks, often under certain constraints such as transaction costs, or risk aversion. Unlike standard portfolio optimization, which considers a single time to rebalance the portfolio, the dynamic version accounts for the evolving nature of assets and rebalance the investment based on changes in asset performance over time.\n",
    "\n",
    "To solve the dynamic portfolio optimization problem, we formulate it as a QUBO (Quadratic Unconstrained Binary Optimization) problem. In this approach, the variables are discretized based on the number of assets in the portfolio, the number of time steps considered, and the number of resolution bits used to define the investment strategy.\n",
    "\n",
    "Following the formulation described in our [manuscript](https://arxiv.org/pdf/2412.19150), the QUBO problem is framed as a multi-objective optimization task, aiming to maximize the expected return, minimize risks, and reduce transaction costs (expenses associated with changing positions over time). Additionally, we introduce a penalty term to enforce the maximum investment per asset.\n",
    "\n",
    "The final goal is to obtain a binary string as a solution, indicating how much to invest in each asset at each point in time. To illustrate this, consider a simplified case with 3 assets and 3 time steps. \n",
    "\n",
    "| Date       | META (%) | AAPL (%) | GOOGL (%) |\n",
    "|------------|----------|----------|------------|\n",
    "| 2024-07-01 | 16.67    | 50.00    | 33.33      |\n",
    "| 2024-08-01 | 50.00    | 50.00    | 0.00       |\n",
    "| 2024-09-01 | 42.86    | 42.86    | 14.29      |\n",
    "\n"
   ]
  },
  {
   "cell_type": "markdown",
   "metadata": {},
   "source": [
    "## DPO Job Execution Example"
   ]
  },
  {
   "cell_type": "markdown",
   "metadata": {},
   "source": [
    "In the cells below, we show how to solve a dynamic portfolio optimization problem using the quantum portfolio optimizer Qiskit Function. Specifically, we model and solve a three-period portfolio allocation problem involving three financial assets. The optimization can be performed using a binary encoding with a resolution of two bits, providing a simple yet insightful framework to understand how to leverage the capabilities of a quantum investment portfolio optimizer. This exercise is designed to introduce key concepts in quantum finance while leveraging Qiskit’s functions for implementing quantum algorithms in a practical financial context."
   ]
  },
  {
   "cell_type": "markdown",
   "metadata": {},
   "source": [
    "First, we have to load the historical data of the assets. For this example, we  build our portfolio using three major technology companies: Meta Platforms Inc. (ticker: META), Apple Inc. (ticker: AAPL), and Alphabet Inc. (ticker: GOOGL). These assets serve as the basis for constructing and optimizing our portfolio over three time periods."
   ]
  },
  {
   "cell_type": "markdown",
   "metadata": {},
   "source": [
    "To work with the data effectively, it must be structured as a JSON object that maps each asset's ticker symbol to a dictionary of closing prices by date. Each date should follow the YYYY-MM-DD format, and prices can be either normalized or raw. All assets must share the same set of dates to ensure consistency; if any asset is missing data for a given date, the missing value should be filled—typically using forward fill with the last known price.\n",
    "\n",
    "To simplify the process, we use the provided function, which only requires the date range and the list of asset tickers. It automatically downloads the data, aligns the dates, fills missing values, and returns the data in the correct JSON format."
   ]
  },
  {
   "cell_type": "markdown",
   "metadata": {},
   "source": [
    "<a id=\"Example\"></a>\n",
    "<div class=\"alert alert-block alert-success\">\n",
    "\n",
    "<b>Example:</b> Follow the example to learn how to use the tool. It is not necessary to execute it, but doing so can help confirm that everything is correctly configured.\n",
    "\n",
    "</div>\n"
   ]
  },
  {
   "cell_type": "code",
   "execution_count": null,
   "metadata": {},
   "outputs": [],
   "source": [
    "def load_asset_data(symbols, start_date, end_date):\n",
    "    \"\"\"\n",
    "    Downloads and prepares historical close price data for the given list of asset symbols.\n",
    "    Also includes weekends by forward-filling the last known value.\n",
    "\n",
    "    Parameters:\n",
    "    - symbols (list of str): Ticker symbols (e.g., ['META', 'AAPL', 'GOOGL'])\n",
    "    - start_date (str): Start date in 'YYYY-MM-DD' format\n",
    "    - end_date (str): End date in 'YYYY-MM-DD' format\n",
    "\n",
    "    Returns:\n",
    "    - assets (dict): Dictionary representation of the DataFrame with prices per date and symbol\n",
    "    \"\"\"\n",
    "    series_list = []\n",
    "    symbol_names = [symbol.replace(\".\", \"_\") for symbol in symbols]\n",
    "\n",
    "    # Create a full date index including weekends\n",
    "    full_index = pd.date_range(start=start_date, end=end_date, freq='D')\n",
    "\n",
    "    for symbol, name in zip(symbols, symbol_names):\n",
    "        print(f\"Downloading data for {symbol}...\")\n",
    "        data = yf.download(symbol, start=start_date, end=end_date)[\"Close\"]\n",
    "        data.name = name\n",
    "\n",
    "        # Reindex to include weekends\n",
    "        data = data.reindex(full_index)\n",
    "\n",
    "        # Fill missing values (e.g., weekends or holidays) by forward/backward fill\n",
    "        data.ffill(inplace=True)\n",
    "        data.bfill(inplace=True)\n",
    "\n",
    "        series_list.append(data)\n",
    "\n",
    "    # Combine all series into a single DataFrame\n",
    "    df = pd.concat(series_list, axis=1)\n",
    "\n",
    "    # Convert index to string for consistency\n",
    "    df.index = df.index.astype(str)\n",
    "\n",
    "    # Convert DataFrame to dictionary\n",
    "    assets = df.to_dict()\n",
    "    return assets"
   ]
  },
  {
   "cell_type": "markdown",
   "metadata": {},
   "source": [
    "<div class=\"alert alert-block alert-info\">\n",
    "\n",
    "<b>Tip:</b> \n",
    "\n",
    "You can reuse this function to efficiently solve the upcoming exercises.\n",
    "\n",
    "</div>"
   ]
  },
  {
   "cell_type": "markdown",
   "metadata": {},
   "source": [
    "Now it's time to define the date range over which we want to obtain historical data for our assets. To do this, we first need to specify the time window considered in each time step (`dt`). This is important because we need, at a minimum, the closing prices for ``(nt + 1) * dt`` days, where `nt` is the number of time steps in our portfolio optimization problem.\n",
    "\n",
    "The time window (`dt`) we use is one month (30 days). Since our problem has 3 time steps (`nt = 3`), we need data covering 4 months in total. For example, we collect data from July 1, 2022, to November 1, 2022."
   ]
  },
  {
   "cell_type": "code",
   "execution_count": null,
   "metadata": {},
   "outputs": [],
   "source": [
    "# Define the list of asset symbols \n",
    "symbols = [\n",
    "    \"META\", \"AAPL\", \"GOOGL\",    \n",
    "]\n",
    "# Define the start and end dates for the portfolio data\n",
    "start_date = \"2024-07-01\"\n",
    "end_date = \"2024-11-01\"\n",
    "\n",
    "# get the asset data dictionary\n",
    "assets = load_asset_data(symbols, start_date, end_date)"
   ]
  },
  {
   "cell_type": "markdown",
   "metadata": {},
   "source": [
    "Next, we need to define the maximum amount to invest at each time step. Since we are using a 2-bit resolution, the maximum investment amount per time step cannot exceed `(2**(nq) - 1) * n_assets  = 9`. So for this case we fix the maximum amount to 7 (i.e., we allow for a maximum investment per asset of 7/9 ~ 77%)."
   ]
  },
  {
   "cell_type": "code",
   "execution_count": null,
   "metadata": {},
   "outputs": [],
   "source": [
    "# define max investment parameter\n",
    "max_investment = 7"
   ]
  },
  {
   "cell_type": "markdown",
   "metadata": {},
   "source": [
    "Since we use the Differential Evolution algorithm as our classical optimizer, we need to define the number of generations and the population size (number of individuals) for the optimization process.\n",
    "\n",
    "Note that the total amount of circuits is ``(num_generations + 1) * population_size``. In this case, to avoid taking large computation time,  we execute 60 circuits."
   ]
  },
  {
   "cell_type": "code",
   "execution_count": null,
   "metadata": {},
   "outputs": [],
   "source": [
    "# define the number of generations and the population size\n",
    "num_generations = 5\n",
    "population_size = 10"
   ]
  },
  {
   "cell_type": "markdown",
   "metadata": {},
   "source": [
    "Finally, we just need to set all the required parameters and pass them appropriately into the quantum portfolio optimizer function."
   ]
  },
  {
   "cell_type": "code",
   "execution_count": null,
   "metadata": {},
   "outputs": [],
   "source": [
    "nt = 3 # Define the number of time steps\n",
    "nq = 2 # Define the number of resolution bits\n",
    "dt = 30 # Define the time window size\n",
    "\n",
    "max_parallel_jobs = 3 # Define the amount of parallel jobs executed in the QPU. Maximum parallel jobs available for open plan is 3.\n",
    "max_batchsize = 4 # Define the number of circuits per job. Note that estimator_shots*max_batchsize should be less than 10_000_000.\n",
    "\n",
    "estimator_shots = 5_000 # Define the number of shots for the estimator. \n",
    "sampler_shots = 10_000 # Define the number of samples of the optimized circuit.\n",
    "\n",
    "ansatz = 'real_amplitudes' # Define the ansatz to be used in the optimization\n",
    "multiple_passmanager = False # Specify not using  multiple passmanager option \n",
    "\n",
    "apply_postprocess = True # Specify if apply SQD-Based postprocess. \n",
    "\n",
    "backend_name = None # Chooses the least busy backend available for the instance.\n",
    "\n",
    "qubo_settings = {\n",
    "    'nt': nt,\n",
    "    'nq': nq,\n",
    "    'dt': dt,\n",
    "    'max_investment': max_investment,\n",
    "}\n",
    "\n",
    "optimizer_settings = {\n",
    "    'de_optimizer_settings': {\n",
    "        'num_generations': num_generations,\n",
    "        'population_size': population_size,\n",
    "        'max_parallel_jobs': max_parallel_jobs, \n",
    "        'max_batchsize': max_batchsize,\n",
    "    },\n",
    "    'optimizer': 'differential_evolution', \n",
    "    'primitive_settings':  {\n",
    "        'estimator_shots': estimator_shots,\n",
    "        'sampler_shots': sampler_shots,\n",
    "    }                \n",
    "}\n",
    "\n",
    "ansatz_settings = {\n",
    "    'ansatz': ansatz,\n",
    "    'multiple_passmanager': multiple_passmanager,\n",
    "}"
   ]
  },
  {
   "cell_type": "markdown",
   "metadata": {},
   "source": [
    "<div class=\"alert alert-block alert-warning\">\n",
    "\n",
    "**⚠️ Warning: QPU Time Consumption**\n",
    "\n",
    "Running the cell below will submit a job to a QPU and consume real QPU time. Please ensure you intend to proceed.\n",
    "\n",
    "**Estimated QPU runtime:** 3 minutes 50 seconds (based on tests on `ibm_brussels`)\n",
    "\n",
    "</div>"
   ]
  },
  {
   "cell_type": "code",
   "execution_count": null,
   "metadata": {},
   "outputs": [],
   "source": [
    "dpo_job = dpo_solver.run(\n",
    "    assets=assets, \n",
    "    qubo_settings=qubo_settings, \n",
    "    optimizer_settings=optimizer_settings, \n",
    "    ansatz_settings=ansatz_settings, \n",
    "    backend_name=backend_name, \n",
    "    apply_postprocess=apply_postprocess\n",
    ")"
   ]
  },
  {
   "cell_type": "code",
   "execution_count": null,
   "metadata": {},
   "outputs": [],
   "source": [
    "# Get the results of the job\n",
    "dpo_result = dpo_job.result()\n",
    "\n",
    "# Show the solution strategy\n",
    "dpo_result['result']"
   ]
  },
  {
   "cell_type": "markdown",
   "metadata": {},
   "source": [
    "Next we show how to access the metrics associated with the solution of the job. Specifically, we access the following metrics: Deviation from maximum investment, Sharpe ratio, and investment return."
   ]
  },
  {
   "cell_type": "code",
   "execution_count": null,
   "metadata": {},
   "outputs": [],
   "source": [
    "# Convert metadata to a DataFrame, excluding 'session_id'\n",
    "df = pd.DataFrame(dpo_result['metadata']['all_samples_metrics'])\n",
    "\n",
    "# Find the minimum objective cost\n",
    "min_cost = df['objective_costs'].min()\n",
    "\n",
    "# Extract the row with the lowest cost\n",
    "best_row = df[df['objective_costs'] == min_cost].iloc[0]\n",
    "\n",
    "# Display the results associated with the best investment\n",
    "print(\"Best Investment Strategy:\")\n",
    "print(f\"  - Deviation from maximum investment: {best_row['rest_breaches']}%\")\n",
    "print(f\"  - Sharpe Ratio: {best_row['sharpe_ratios']:.2f}\")\n",
    "print(f\"  - Return: {best_row['returns']}\")"
   ]
  },
  {
   "cell_type": "markdown",
   "metadata": {},
   "source": [
    "## Exercise 1: DPO Job Execution\n",
    "In this exercise, we perform a portfolio optimization using three financial assets, four time steps of 30 days of time window, and a 2-bit resolution. This time, we use the Optimized Real Amplitudes Ansatz. The population size and number of generations are chosen to ensure that a total of 70 quantum circuits are executed during the optimization process. Additionally, we allow for a maximum investment per asset of 6/9 (approximately 66%).\n",
    "\n",
    "The portfolio selected for this exercise are:\n",
    "- [NVIDIA Corporation](https://finance.yahoo.com/quote/NVDA/)\n",
    "- [Tesla, Inc.](https://finance.yahoo.com/quote/TSLA/)\n",
    "- [Amazon.com, Inc.](https://finance.yahoo.com/quote/AMZN/)"
   ]
  },
  {
   "cell_type": "markdown",
   "metadata": {},
   "source": [
    "<a id=\"Exercise1\"></a>\n",
    "<div class=\"alert alert-block alert-success\">\n",
    "\n",
    "<b>Exercise 1:</b> Follow the instructions in the cells below to perform portfolio optimization.\n",
    "\n",
    "</div>\n"
   ]
  },
  {
   "cell_type": "markdown",
   "metadata": {},
   "source": [
    "<a id=\"tips\"></a>\n",
    "<div class=\"alert alert-block alert-info\">\n",
    "    \n",
    "<b>Tips:</b> \n",
    "\n",
    "Visit the links to the asset pages on Yahoo Finance to check the ticker names.\n",
    "\n",
    "</div>\n"
   ]
  },
  {
   "cell_type": "code",
   "execution_count": null,
   "metadata": {},
   "outputs": [],
   "source": [
    "### TODO: Write your code below here ###\n",
    "\n",
    "# Fill the missing asset tickers of the portfolio\n",
    "symbols = []\n",
    "\n",
    "# Define the QUBO problem specification parameters (nt, nq, dt, )\n",
    "#  - Set max_investment to approximately 66% of maximum investment per asset. (See example above)\n",
    "#  - Set nt to four time steps.\n",
    "#  - Set nq to two resolution bits.\n",
    "#  - Set dt to 30 days.\n",
    "\n",
    "qubo_settings = {\n",
    "    'nt': ,  # Number of time steps\n",
    "    'nq': ,  # Number of resolution bits\n",
    "    'dt': ,  # Time window size in days\n",
    "    'max_investment': ,  # Set max investment to approximately 66% of maximum investment per asset\n",
    "}\n",
    "\n",
    "# Define the end dates for the portfolio data so that it fills the required amount of days according to the time window size and the number of time steps.\n",
    "start_date = \"2024-07-01\"\n",
    "end_date = \"\"\n",
    "\n",
    "# get the asset data dictionary"
   ]
  },
  {
   "cell_type": "code",
   "execution_count": null,
   "metadata": {},
   "outputs": [],
   "source": [
    "# Knowing that we want to run at most 70 quantum circuits:\n",
    "# set the population size and the number of generations for the Differential Evolution algorithm accordingly. \n",
    "# remember that the number of circuits is calculated as (num_generations + 1) * population_size.\n",
    "\n",
    "### TODO: Write your code below here ###\n",
    "\n",
    "num_generations = \n",
    "population_size = "
   ]
  },
  {
   "cell_type": "code",
   "execution_count": null,
   "metadata": {},
   "outputs": [],
   "source": [
    "max_parallel_jobs = 3 # Define the amount of parallel jobs executed in the QPU. Maximum parallel jobs available for open plan is 3.\n",
    "max_batchsize = 4 # Define the number of circuits per job.\n",
    "\n",
    "estimator_shots = 25_000 # Define the number of shots for the estimator. \n",
    "sampler_shots = 100_000 # Define the number of samples of the optimized circuit.\n",
    "\n",
    "# Now complete the configuration by defining the remaining parameters. \n",
    "# Remember We use:\n",
    "#  - Optimized Real Amplitudes ansatz. \n",
    "#  - Not enable the multiple passmanager option. \n",
    "#  - Apply Postprocessing based on SQD. \n",
    "#  - The backend with the least load available to ensure more efficient execution.\n",
    "\n",
    "### TODO: Write your code below here ###\n",
    "\n",
    "optimizer_settings_ex1 = {\n",
    "    'de_optimizer_settings': {\n",
    "        'num_generations': ,\n",
    "        'population_size': ,\n",
    "        'max_parallel_jobs': , \n",
    "        'max_batchsize': ,\n",
    "    },\n",
    "    'optimizer': 'differential_evolution', \n",
    "    'primitive_settings':  {\n",
    "        'estimator_shots': ,\n",
    "        'sampler_shots': ,\n",
    "    }                \n",
    "}\n",
    "\n",
    "ansatz_settings = {\n",
    "    'ansatz': ,\n",
    "    'multiple_passmanager': ,\n",
    "}"
   ]
  },
  {
   "cell_type": "code",
   "execution_count": null,
   "metadata": {},
   "outputs": [],
   "source": [
    "grade_ex1a(qubo_settings, optimizer_settings_ex1, ansatz_settings, apply_postprocess, assets)"
   ]
  },
  {
   "cell_type": "code",
   "execution_count": null,
   "metadata": {},
   "outputs": [],
   "source": [
    "your_api_key = \"deleteThisAndPasteYourAPIKeyHere\"\n",
    "your_crn = \"deleteThisAndPasteYourCRNHere\"\n",
    "\n",
    "catalog = QiskitFunctionsCatalog(\n",
    "    channel=\"ibm_quantum_platform\",\n",
    "    token=your_api_key,\n",
    "    instance=your_crn,\n",
    ")\n",
    "dpo_solver = catalog.load(\"global-data-quantum/quantum-portfolio-optimizer\")"
   ]
  },
  {
   "cell_type": "markdown",
   "metadata": {},
   "source": [
    "<div class=\"alert alert-block alert-warning\">\n",
    "\n",
    "**⚠️ Warning: QPU Time Consumption**\n",
    "\n",
    "Running the cell below will submit a job to a QPU and consume real QPU time. Please ensure you intend to proceed.\n",
    "\n",
    "**Estimated QPU runtime:** 4 minutes 20 seconds (based on tests on `ibm_brussels`)\n",
    "\n",
    "</div>"
   ]
  },
  {
   "cell_type": "code",
   "execution_count": null,
   "metadata": {},
   "outputs": [],
   "source": [
    "# Execute the job.\n",
    "\n",
    "### TODO: Write your code below here ###\n",
    "\n",
    "dpo_job = dpo_solver.run(\n",
    "    assets= ,\n",
    "    qubo_settings= , \n",
    "    optimizer_settings= , \n",
    "    ansatz_settings= , \n",
    "    backend_name= , \n",
    "    apply_postprocess= ,\n",
    ")"
   ]
  },
  {
   "cell_type": "code",
   "execution_count": null,
   "metadata": {},
   "outputs": [],
   "source": [
    "dpo_job.status() # Check the status is DONE before getting the result"
   ]
  },
  {
   "cell_type": "markdown",
   "metadata": {},
   "source": [
    "Now, let's display the following key performance metrics: return, Sharpe ratio, deviation from the investment restriction, and transaction costs."
   ]
  },
  {
   "cell_type": "code",
   "execution_count": null,
   "metadata": {},
   "outputs": [],
   "source": [
    "### TODO: Write your code below here ###\n",
    "\n",
    "# Get the results of the job\n",
    "dpo_result = "
   ]
  },
  {
   "cell_type": "code",
   "execution_count": null,
   "metadata": {},
   "outputs": [],
   "source": [
    "grade_ex1b(dpo_result)"
   ]
  },
  {
   "cell_type": "code",
   "execution_count": null,
   "metadata": {},
   "outputs": [],
   "source": [
    "\n",
    "# Convert metadata to a DataFrame, excluding 'session_id'\n",
    "df = pd.DataFrame(dpo_result['metadata']['all_samples_metrics'])\n",
    "\n",
    "# Find the minimum objective cost\n",
    "min_cost = df['objective_costs'].min()\n",
    "\n",
    "# Extract the row with the lowest cost\n",
    "best_row = df[df['objective_costs'] == min_cost].iloc[0]\n",
    "\n",
    "# Display the results associated with the best investment\n",
    "print(\"Best Investment Strategy:\")\n",
    "print(f\"  - Deviation from maximum investment: {best_row['rest_breaches']}%\")\n",
    "print(f\"  - Sharpe Ratio: {best_row['sharpe_ratios']:.2f}\")\n",
    "print(f\"  - Transaction Costs: {best_row['transaction_costs']}\")"
   ]
  },
  {
   "cell_type": "markdown",
   "metadata": {},
   "source": [
    "## Exercise 2: Resuming Job Execution\n",
    "This function allows you to resume a previous execution (either because it was interrupted or because you want to perform additional runs to improve the result). In this exercise, we resume the previous optimization and add two more generations to continue refining the portfolio solution"
   ]
  },
  {
   "cell_type": "markdown",
   "metadata": {},
   "source": [
    "To do this, we use the argument `previous_session_id`, which is a list of session IDs from which the execution is being resumed. Then, we need to provide exactly the same parameters as in the previous function call, but with two additional generations compared to the original example."
   ]
  },
  {
   "cell_type": "markdown",
   "metadata": {},
   "source": [
    "<a id=\"Exercise2\"></a>\n",
    "<div class=\"alert alert-block alert-success\">\n",
    "\n",
    "<b>Exercise 2:</b> Modify the number of generations to perform a warm restart and extend the execution.\n",
    "\n",
    "</div>\n"
   ]
  },
  {
   "cell_type": "code",
   "execution_count": null,
   "metadata": {},
   "outputs": [],
   "source": [
    "num_generations_ex1 = optimizer_settings_ex1['de_optimizer_settings']['num_generations']"
   ]
  },
  {
   "cell_type": "code",
   "execution_count": null,
   "metadata": {},
   "outputs": [],
   "source": [
    "# First we take the session id from the previous job.\n",
    "session_id = dpo_result['metadata']['session_id']\n",
    "\n",
    "# Change the number of generations by adding 2 to the previous number of generations.\n",
    "\n",
    "### TODO: Write your code below here ###\n",
    "\n",
    "optimizer_settings = optimizer_settings_ex1\n",
    "optimizer_settings['de_optimizer_settings']['num_generations'] = \n",
    "\n",
    "# Execute the job again introducing the new number of generations and the session id in the `previous_session_id` list.\n",
    "\n",
    "### TODO: Write your code below here ###\n",
    "\n",
    "previous_session_id =  # Load session id from the output of the previous exercise dpo_job."
   ]
  },
  {
   "cell_type": "code",
   "execution_count": null,
   "metadata": {},
   "outputs": [],
   "source": [
    "grade_ex2(qubo_settings, optimizer_settings, ansatz_settings, apply_postprocess, assets, num_generations_ex1, previous_session_id)"
   ]
  },
  {
   "cell_type": "markdown",
   "metadata": {},
   "source": [
    "<div class=\"alert alert-block alert-warning\">\n",
    "\n",
    "**⚠️ Warning: QPU Time Consumption**\n",
    "\n",
    "Running the cell below will submit a job to a QPU and consume real QPU time. Please ensure you intend to proceed.\n",
    "\n",
    "**Estimated QPU runtime:** 1 minutes 30 seconds (based on tests on `ibm_brussels`)\n",
    "\n",
    "</div>"
   ]
  },
  {
   "cell_type": "code",
   "execution_count": null,
   "metadata": {},
   "outputs": [],
   "source": [
    "dpo_job = dpo_solver.run(\n",
    "    assets=assets, \n",
    "    qubo_settings=qubo_settings, \n",
    "    optimizer_settings=optimizer_settings, \n",
    "    ansatz_settings=ansatz_settings, \n",
    "    backend_name=backend_name, \n",
    "    apply_postprocess=apply_postprocess,\n",
    "    previous_session_id=previous_session_id\n",
    ")"
   ]
  },
  {
   "cell_type": "code",
   "execution_count": null,
   "metadata": {},
   "outputs": [],
   "source": [
    "dpo_job.status() # Check the status is DONE "
   ]
  },
  {
   "cell_type": "markdown",
   "metadata": {},
   "source": [
    "# Feedback Survey\n",
    "\n",
    "We’d love to hear about your experience using the Qiskit Function! Your feedback is valuable and will help Qiskit Function providers enhance their tools and services. Please take a moment to share your thoughts by completing our short 2 min [feedback survey](https://airtable.com/app6VujlNUHZuOnAF/pagpw6TgP9UEt4TAT/form)."
   ]
  },
  {
   "cell_type": "markdown",
   "metadata": {},
   "source": [
    "# References\n",
    "\n",
    "1. [Quantum Portfolio Optimizater Tutorial](https://quantum.cloud.ibm.com/docs/en/tutorials/global-data-quantum-optimizer)\n",
    "2. [Quantum Portfolio Optimizer Documentation](https://quantum.cloud.ibm.com/docs/en/guides/global-data-quantum-optimizer)\n",
    "3. [Scaling the Variational Quantum Eigensolver for Dynamic Portfolio Optimization](https://arxiv.org/abs/2412.19150)\n",
    "4. [Qiskit Serverless Documentation](https://qiskit.github.io/qiskit-serverless/index.html)"
   ]
  },
  {
   "cell_type": "markdown",
   "metadata": {},
   "source": [
    "# Additional Information\n",
    "**Created by**: Manuel Martín-Cordero, Álvaro Nodar  \n",
    "**Advised by**: Junye Huang\n",
    "\n",
    "**Version**: 1.1.0"
   ]
  },
  {
   "cell_type": "markdown",
   "metadata": {},
   "source": [
    "## Qiskit packages versions"
   ]
  },
  {
   "cell_type": "code",
   "execution_count": null,
   "metadata": {},
   "outputs": [],
   "source": [
    "import qiskit\n",
    "import qiskit_ibm_catalog\n",
    "\n",
    "print(f'Qiskit: {qiskit.__version__}')\n",
    "print(f'Qiskit IBM Catalog: {qiskit_ibm_catalog.__version__}')"
   ]
  }
 ],
 "metadata": {
  "kernelspec": {
   "display_name": ".venv",
   "language": "python",
   "name": "python3"
  },
  "language_info": {
   "codemirror_mode": {
    "name": "ipython",
    "version": 3
   },
   "file_extension": ".py",
   "mimetype": "text/x-python",
   "name": "python",
   "nbconvert_exporter": "python",
   "pygments_lexer": "ipython3",
   "version": "3.12.3"
  }
 },
 "nbformat": 4,
 "nbformat_minor": 2
}
